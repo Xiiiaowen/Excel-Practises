{
 "cells": [
  {
   "cell_type": "markdown",
   "id": "788165a7-dbbc-475f-a7f7-1d430c0ea833",
   "metadata": {},
   "source": [
    "# Practise on simple EDA"
   ]
  },
  {
   "cell_type": "markdown",
   "id": "8750539d-ed4a-4cf0-8614-df1efb5a236c",
   "metadata": {},
   "source": [
    "### Import all the necessary library"
   ]
  },
  {
   "cell_type": "code",
   "execution_count": 1,
   "id": "9ae206cc-c1fb-4005-b65a-05bd766a214d",
   "metadata": {},
   "outputs": [],
   "source": [
    "import numpy as np\n",
    "import pandas as pd\n",
    "import matplotlib.pyplot as plt\n",
    "import seaborn as sns\n",
    "from encodings.aliases import aliases # Python has a file containing a dictionary of encoding names and associated aliases\n",
    "\n",
    "# the matplotlib plots will appear directly below the cell in which the plot function was called.\n",
    "%matplotlib inline"
   ]
  },
  {
   "cell_type": "markdown",
   "id": "b71a5a0f-7704-4de8-9ba7-b6a7a5dafe52",
   "metadata": {},
   "source": [
    "### Read in the csv files and remove duplicates"
   ]
  },
  {
   "cell_type": "code",
   "execution_count": 2,
   "id": "a486aec3-0e8b-4c73-976c-16d9a66327e1",
   "metadata": {},
   "outputs": [
    {
     "name": "stdout",
     "output_type": "stream",
     "text": [
      "sucessful cp1250\n",
      "sucessful cp1254\n",
      "sucessful gb18030\n",
      "sucessful iso8859_15\n",
      "sucessful iso8859_5\n",
      "sucessful cp500\n",
      "sucessful cp932\n",
      "sucessful iso8859_4\n",
      "sucessful cp1251\n",
      "sucessful cp1253\n",
      "sucessful cp860\n",
      "sucessful cp1252\n",
      "sucessful mbcs\n",
      "sucessful cp949\n",
      "sucessful iso8859_16\n",
      "sucessful cp865\n",
      "sucessful iso8859_3\n",
      "sucessful big5hkscs\n",
      "sucessful iso8859_11\n",
      "sucessful cp869\n",
      "sucessful mac_turkish\n",
      "sucessful utf_16_le\n",
      "sucessful utf_16_be\n",
      "sucessful cp862\n",
      "sucessful iso8859_13\n",
      "sucessful mac_cyrillic\n",
      "sucessful cp1257\n",
      "sucessful iso8859_14\n",
      "sucessful cp1255\n",
      "sucessful cp1026\n",
      "sucessful cp273\n",
      "sucessful cp1125\n",
      "sucessful mac_iceland\n",
      "sucessful cp1258\n",
      "sucessful iso8859_6\n",
      "sucessful mac_roman\n",
      "sucessful cp861\n",
      "sucessful cp863\n",
      "sucessful latin_1\n",
      "sucessful koi8_r\n",
      "sucessful cp858\n",
      "sucessful ptcp154\n",
      "sucessful mac_greek\n",
      "sucessful cp037\n",
      "sucessful cp855\n",
      "sucessful iso8859_7\n",
      "sucessful cp864\n",
      "sucessful cp1140\n",
      "sucessful cp850\n",
      "sucessful iso8859_8\n",
      "sucessful iso8859_10\n",
      "sucessful iso8859_2\n",
      "sucessful iso8859_9\n",
      "sucessful cp775\n",
      "sucessful kz1048\n",
      "sucessful cp857\n",
      "sucessful gbk\n",
      "sucessful cp437\n",
      "sucessful cp1256\n",
      "sucessful cp866\n",
      "sucessful hp_roman8\n",
      "sucessful mac_latin2\n",
      "sucessful cp852\n"
     ]
    }
   ],
   "source": [
    "# To find encodings that work\n",
    "\n",
    "# Below line creates a set of all available encodings\n",
    "alias_values = set(aliases.values())\n",
    "\n",
    "for encoding in set(aliases.values()):\n",
    "    try:\n",
    "        df=pd.read_csv(\"crime.csv\", nrows=10, encoding=encoding) # read in only 10 lines for faster read\n",
    "        print('successful', encoding)\n",
    "    except:\n",
    "        pass"
   ]
  },
  {
   "cell_type": "code",
   "execution_count": 10,
   "id": "eca04b50-c9a1-4452-bf4b-abd0c47f82f4",
   "metadata": {},
   "outputs": [],
   "source": [
    "# Read in the crime.csv file and use the timestamp as a fatetime index\n",
    "crime = pd.read_csv(r'.\\8. EDA with Python\\crime.csv'\n",
    "                         , encoding = \"ISO-8859-11\")"
   ]
  },
  {
   "cell_type": "code",
   "execution_count": 19,
   "id": "073b02cf-5cb1-4bdd-b597-2ae4863ba905",
   "metadata": {},
   "outputs": [
    {
     "data": {
      "text/html": [
       "<div>\n",
       "<style scoped>\n",
       "    .dataframe tbody tr th:only-of-type {\n",
       "        vertical-align: middle;\n",
       "    }\n",
       "\n",
       "    .dataframe tbody tr th {\n",
       "        vertical-align: top;\n",
       "    }\n",
       "\n",
       "    .dataframe thead th {\n",
       "        text-align: right;\n",
       "    }\n",
       "</style>\n",
       "<table border=\"1\" class=\"dataframe\">\n",
       "  <thead>\n",
       "    <tr style=\"text-align: right;\">\n",
       "      <th></th>\n",
       "      <th>INCIDENT_NUMBER</th>\n",
       "      <th>OFFENSE_CODE</th>\n",
       "      <th>OFFENSE_CODE_GROUP</th>\n",
       "      <th>OFFENSE_DESCRIPTION</th>\n",
       "      <th>DISTRICT</th>\n",
       "      <th>REPORTING_AREA</th>\n",
       "      <th>SHOOTING</th>\n",
       "      <th>OCCURRED_ON_DATE</th>\n",
       "      <th>YEAR</th>\n",
       "      <th>MONTH</th>\n",
       "      <th>DAY_OF_WEEK</th>\n",
       "      <th>HOUR</th>\n",
       "      <th>UCR_PART</th>\n",
       "      <th>STREET</th>\n",
       "      <th>Lat</th>\n",
       "      <th>Long</th>\n",
       "      <th>Location</th>\n",
       "    </tr>\n",
       "  </thead>\n",
       "  <tbody>\n",
       "    <tr>\n",
       "      <th>0</th>\n",
       "      <td>I182070945</td>\n",
       "      <td>619</td>\n",
       "      <td>Larceny</td>\n",
       "      <td>LARCENY ALL OTHERS</td>\n",
       "      <td>D14</td>\n",
       "      <td>808</td>\n",
       "      <td>NaN</td>\n",
       "      <td>2018-09-02 13:00:00</td>\n",
       "      <td>2018</td>\n",
       "      <td>9</td>\n",
       "      <td>Sunday</td>\n",
       "      <td>13</td>\n",
       "      <td>Part One</td>\n",
       "      <td>LINCOLN ST</td>\n",
       "      <td>42.357791</td>\n",
       "      <td>-71.139371</td>\n",
       "      <td>(42.35779134, -71.13937053)</td>\n",
       "    </tr>\n",
       "    <tr>\n",
       "      <th>1</th>\n",
       "      <td>I182070943</td>\n",
       "      <td>1402</td>\n",
       "      <td>Vandalism</td>\n",
       "      <td>VANDALISM</td>\n",
       "      <td>C11</td>\n",
       "      <td>347</td>\n",
       "      <td>NaN</td>\n",
       "      <td>2018-08-21 00:00:00</td>\n",
       "      <td>2018</td>\n",
       "      <td>8</td>\n",
       "      <td>Tuesday</td>\n",
       "      <td>0</td>\n",
       "      <td>Part Two</td>\n",
       "      <td>HECLA ST</td>\n",
       "      <td>42.306821</td>\n",
       "      <td>-71.060300</td>\n",
       "      <td>(42.30682138, -71.06030035)</td>\n",
       "    </tr>\n",
       "    <tr>\n",
       "      <th>2</th>\n",
       "      <td>I182070941</td>\n",
       "      <td>3410</td>\n",
       "      <td>Towed</td>\n",
       "      <td>TOWED MOTOR VEHICLE</td>\n",
       "      <td>D4</td>\n",
       "      <td>151</td>\n",
       "      <td>NaN</td>\n",
       "      <td>2018-09-03 19:27:00</td>\n",
       "      <td>2018</td>\n",
       "      <td>9</td>\n",
       "      <td>Monday</td>\n",
       "      <td>19</td>\n",
       "      <td>Part Three</td>\n",
       "      <td>CAZENOVE ST</td>\n",
       "      <td>42.346589</td>\n",
       "      <td>-71.072429</td>\n",
       "      <td>(42.34658879, -71.07242943)</td>\n",
       "    </tr>\n",
       "    <tr>\n",
       "      <th>3</th>\n",
       "      <td>I182070940</td>\n",
       "      <td>3114</td>\n",
       "      <td>Investigate Property</td>\n",
       "      <td>INVESTIGATE PROPERTY</td>\n",
       "      <td>D4</td>\n",
       "      <td>272</td>\n",
       "      <td>NaN</td>\n",
       "      <td>2018-09-03 21:16:00</td>\n",
       "      <td>2018</td>\n",
       "      <td>9</td>\n",
       "      <td>Monday</td>\n",
       "      <td>21</td>\n",
       "      <td>Part Three</td>\n",
       "      <td>NEWCOMB ST</td>\n",
       "      <td>42.334182</td>\n",
       "      <td>-71.078664</td>\n",
       "      <td>(42.33418175, -71.07866441)</td>\n",
       "    </tr>\n",
       "    <tr>\n",
       "      <th>4</th>\n",
       "      <td>I182070938</td>\n",
       "      <td>3114</td>\n",
       "      <td>Investigate Property</td>\n",
       "      <td>INVESTIGATE PROPERTY</td>\n",
       "      <td>B3</td>\n",
       "      <td>421</td>\n",
       "      <td>NaN</td>\n",
       "      <td>2018-09-03 21:05:00</td>\n",
       "      <td>2018</td>\n",
       "      <td>9</td>\n",
       "      <td>Monday</td>\n",
       "      <td>21</td>\n",
       "      <td>Part Three</td>\n",
       "      <td>DELHI ST</td>\n",
       "      <td>42.275365</td>\n",
       "      <td>-71.090361</td>\n",
       "      <td>(42.27536542, -71.09036101)</td>\n",
       "    </tr>\n",
       "  </tbody>\n",
       "</table>\n",
       "</div>"
      ],
      "text/plain": [
       "  INCIDENT_NUMBER  OFFENSE_CODE    OFFENSE_CODE_GROUP   OFFENSE_DESCRIPTION  \\\n",
       "0      I182070945           619               Larceny    LARCENY ALL OTHERS   \n",
       "1      I182070943          1402             Vandalism             VANDALISM   \n",
       "2      I182070941          3410                 Towed   TOWED MOTOR VEHICLE   \n",
       "3      I182070940          3114  Investigate Property  INVESTIGATE PROPERTY   \n",
       "4      I182070938          3114  Investigate Property  INVESTIGATE PROPERTY   \n",
       "\n",
       "  DISTRICT REPORTING_AREA SHOOTING     OCCURRED_ON_DATE  YEAR  MONTH  \\\n",
       "0      D14            808      NaN  2018-09-02 13:00:00  2018      9   \n",
       "1      C11            347      NaN  2018-08-21 00:00:00  2018      8   \n",
       "2       D4            151      NaN  2018-09-03 19:27:00  2018      9   \n",
       "3       D4            272      NaN  2018-09-03 21:16:00  2018      9   \n",
       "4       B3            421      NaN  2018-09-03 21:05:00  2018      9   \n",
       "\n",
       "  DAY_OF_WEEK  HOUR    UCR_PART       STREET        Lat       Long  \\\n",
       "0      Sunday    13    Part One   LINCOLN ST  42.357791 -71.139371   \n",
       "1     Tuesday     0    Part Two     HECLA ST  42.306821 -71.060300   \n",
       "2      Monday    19  Part Three  CAZENOVE ST  42.346589 -71.072429   \n",
       "3      Monday    21  Part Three   NEWCOMB ST  42.334182 -71.078664   \n",
       "4      Monday    21  Part Three     DELHI ST  42.275365 -71.090361   \n",
       "\n",
       "                      Location  \n",
       "0  (42.35779134, -71.13937053)  \n",
       "1  (42.30682138, -71.06030035)  \n",
       "2  (42.34658879, -71.07242943)  \n",
       "3  (42.33418175, -71.07866441)  \n",
       "4  (42.27536542, -71.09036101)  "
      ]
     },
     "execution_count": 19,
     "metadata": {},
     "output_type": "execute_result"
    }
   ],
   "source": [
    "crime.head()"
   ]
  },
  {
   "cell_type": "code",
   "execution_count": 20,
   "id": "45709f6a-7b24-4303-bad0-b6238a33949c",
   "metadata": {},
   "outputs": [
    {
     "data": {
      "text/plain": [
       "(319073, 17)"
      ]
     },
     "execution_count": 20,
     "metadata": {},
     "output_type": "execute_result"
    }
   ],
   "source": [
    "crime.shape"
   ]
  },
  {
   "cell_type": "code",
   "execution_count": 21,
   "id": "8a48c49b-2161-46d9-b02f-723a17668f5a",
   "metadata": {},
   "outputs": [
    {
     "data": {
      "text/plain": [
       "23"
      ]
     },
     "execution_count": 21,
     "metadata": {},
     "output_type": "execute_result"
    }
   ],
   "source": [
    "crime.duplicated().sum()"
   ]
  },
  {
   "cell_type": "code",
   "execution_count": 22,
   "id": "b3ef7b1d-a6d0-44c8-8cd5-d2048225fb27",
   "metadata": {},
   "outputs": [],
   "source": [
    "crime.drop_duplicates(inplace=True)"
   ]
  },
  {
   "cell_type": "code",
   "execution_count": 23,
   "id": "884d7151-c9f4-4203-b967-cb2c7a902fff",
   "metadata": {},
   "outputs": [
    {
     "data": {
      "text/plain": [
       "(319050, 17)"
      ]
     },
     "execution_count": 23,
     "metadata": {},
     "output_type": "execute_result"
    }
   ],
   "source": [
    "crime.shape"
   ]
  },
  {
   "cell_type": "markdown",
   "id": "92e13faf-c4e1-440f-94ca-c8d6ed865ad1",
   "metadata": {},
   "source": [
    "### Explore the dataset"
   ]
  },
  {
   "cell_type": "code",
   "execution_count": 24,
   "id": "be9f450b-ee7a-4660-9716-ef73aab7e565",
   "metadata": {},
   "outputs": [
    {
     "data": {
      "text/html": [
       "<div>\n",
       "<style scoped>\n",
       "    .dataframe tbody tr th:only-of-type {\n",
       "        vertical-align: middle;\n",
       "    }\n",
       "\n",
       "    .dataframe tbody tr th {\n",
       "        vertical-align: top;\n",
       "    }\n",
       "\n",
       "    .dataframe thead th {\n",
       "        text-align: right;\n",
       "    }\n",
       "</style>\n",
       "<table border=\"1\" class=\"dataframe\">\n",
       "  <thead>\n",
       "    <tr style=\"text-align: right;\">\n",
       "      <th></th>\n",
       "      <th>INCIDENT_NUMBER</th>\n",
       "      <th>OFFENSE_CODE</th>\n",
       "      <th>OFFENSE_CODE_GROUP</th>\n",
       "      <th>OFFENSE_DESCRIPTION</th>\n",
       "      <th>DISTRICT</th>\n",
       "      <th>REPORTING_AREA</th>\n",
       "      <th>SHOOTING</th>\n",
       "      <th>OCCURRED_ON_DATE</th>\n",
       "      <th>YEAR</th>\n",
       "      <th>MONTH</th>\n",
       "      <th>DAY_OF_WEEK</th>\n",
       "      <th>HOUR</th>\n",
       "      <th>UCR_PART</th>\n",
       "      <th>STREET</th>\n",
       "      <th>Lat</th>\n",
       "      <th>Long</th>\n",
       "      <th>Location</th>\n",
       "    </tr>\n",
       "  </thead>\n",
       "  <tbody>\n",
       "    <tr>\n",
       "      <th>0</th>\n",
       "      <td>I182070945</td>\n",
       "      <td>619</td>\n",
       "      <td>Larceny</td>\n",
       "      <td>LARCENY ALL OTHERS</td>\n",
       "      <td>D14</td>\n",
       "      <td>808</td>\n",
       "      <td>NaN</td>\n",
       "      <td>2018-09-02 13:00:00</td>\n",
       "      <td>2018</td>\n",
       "      <td>9</td>\n",
       "      <td>Sunday</td>\n",
       "      <td>13</td>\n",
       "      <td>Part One</td>\n",
       "      <td>LINCOLN ST</td>\n",
       "      <td>42.357791</td>\n",
       "      <td>-71.139371</td>\n",
       "      <td>(42.35779134, -71.13937053)</td>\n",
       "    </tr>\n",
       "    <tr>\n",
       "      <th>1</th>\n",
       "      <td>I182070943</td>\n",
       "      <td>1402</td>\n",
       "      <td>Vandalism</td>\n",
       "      <td>VANDALISM</td>\n",
       "      <td>C11</td>\n",
       "      <td>347</td>\n",
       "      <td>NaN</td>\n",
       "      <td>2018-08-21 00:00:00</td>\n",
       "      <td>2018</td>\n",
       "      <td>8</td>\n",
       "      <td>Tuesday</td>\n",
       "      <td>0</td>\n",
       "      <td>Part Two</td>\n",
       "      <td>HECLA ST</td>\n",
       "      <td>42.306821</td>\n",
       "      <td>-71.060300</td>\n",
       "      <td>(42.30682138, -71.06030035)</td>\n",
       "    </tr>\n",
       "    <tr>\n",
       "      <th>2</th>\n",
       "      <td>I182070941</td>\n",
       "      <td>3410</td>\n",
       "      <td>Towed</td>\n",
       "      <td>TOWED MOTOR VEHICLE</td>\n",
       "      <td>D4</td>\n",
       "      <td>151</td>\n",
       "      <td>NaN</td>\n",
       "      <td>2018-09-03 19:27:00</td>\n",
       "      <td>2018</td>\n",
       "      <td>9</td>\n",
       "      <td>Monday</td>\n",
       "      <td>19</td>\n",
       "      <td>Part Three</td>\n",
       "      <td>CAZENOVE ST</td>\n",
       "      <td>42.346589</td>\n",
       "      <td>-71.072429</td>\n",
       "      <td>(42.34658879, -71.07242943)</td>\n",
       "    </tr>\n",
       "    <tr>\n",
       "      <th>3</th>\n",
       "      <td>I182070940</td>\n",
       "      <td>3114</td>\n",
       "      <td>Investigate Property</td>\n",
       "      <td>INVESTIGATE PROPERTY</td>\n",
       "      <td>D4</td>\n",
       "      <td>272</td>\n",
       "      <td>NaN</td>\n",
       "      <td>2018-09-03 21:16:00</td>\n",
       "      <td>2018</td>\n",
       "      <td>9</td>\n",
       "      <td>Monday</td>\n",
       "      <td>21</td>\n",
       "      <td>Part Three</td>\n",
       "      <td>NEWCOMB ST</td>\n",
       "      <td>42.334182</td>\n",
       "      <td>-71.078664</td>\n",
       "      <td>(42.33418175, -71.07866441)</td>\n",
       "    </tr>\n",
       "    <tr>\n",
       "      <th>4</th>\n",
       "      <td>I182070938</td>\n",
       "      <td>3114</td>\n",
       "      <td>Investigate Property</td>\n",
       "      <td>INVESTIGATE PROPERTY</td>\n",
       "      <td>B3</td>\n",
       "      <td>421</td>\n",
       "      <td>NaN</td>\n",
       "      <td>2018-09-03 21:05:00</td>\n",
       "      <td>2018</td>\n",
       "      <td>9</td>\n",
       "      <td>Monday</td>\n",
       "      <td>21</td>\n",
       "      <td>Part Three</td>\n",
       "      <td>DELHI ST</td>\n",
       "      <td>42.275365</td>\n",
       "      <td>-71.090361</td>\n",
       "      <td>(42.27536542, -71.09036101)</td>\n",
       "    </tr>\n",
       "  </tbody>\n",
       "</table>\n",
       "</div>"
      ],
      "text/plain": [
       "  INCIDENT_NUMBER  OFFENSE_CODE    OFFENSE_CODE_GROUP   OFFENSE_DESCRIPTION  \\\n",
       "0      I182070945           619               Larceny    LARCENY ALL OTHERS   \n",
       "1      I182070943          1402             Vandalism             VANDALISM   \n",
       "2      I182070941          3410                 Towed   TOWED MOTOR VEHICLE   \n",
       "3      I182070940          3114  Investigate Property  INVESTIGATE PROPERTY   \n",
       "4      I182070938          3114  Investigate Property  INVESTIGATE PROPERTY   \n",
       "\n",
       "  DISTRICT REPORTING_AREA SHOOTING     OCCURRED_ON_DATE  YEAR  MONTH  \\\n",
       "0      D14            808      NaN  2018-09-02 13:00:00  2018      9   \n",
       "1      C11            347      NaN  2018-08-21 00:00:00  2018      8   \n",
       "2       D4            151      NaN  2018-09-03 19:27:00  2018      9   \n",
       "3       D4            272      NaN  2018-09-03 21:16:00  2018      9   \n",
       "4       B3            421      NaN  2018-09-03 21:05:00  2018      9   \n",
       "\n",
       "  DAY_OF_WEEK  HOUR    UCR_PART       STREET        Lat       Long  \\\n",
       "0      Sunday    13    Part One   LINCOLN ST  42.357791 -71.139371   \n",
       "1     Tuesday     0    Part Two     HECLA ST  42.306821 -71.060300   \n",
       "2      Monday    19  Part Three  CAZENOVE ST  42.346589 -71.072429   \n",
       "3      Monday    21  Part Three   NEWCOMB ST  42.334182 -71.078664   \n",
       "4      Monday    21  Part Three     DELHI ST  42.275365 -71.090361   \n",
       "\n",
       "                      Location  \n",
       "0  (42.35779134, -71.13937053)  \n",
       "1  (42.30682138, -71.06030035)  \n",
       "2  (42.34658879, -71.07242943)  \n",
       "3  (42.33418175, -71.07866441)  \n",
       "4  (42.27536542, -71.09036101)  "
      ]
     },
     "execution_count": 24,
     "metadata": {},
     "output_type": "execute_result"
    }
   ],
   "source": [
    "crime.head()"
   ]
  },
  {
   "cell_type": "code",
   "execution_count": 25,
   "id": "5fdce112-eea1-42fe-b9c0-638345b8717c",
   "metadata": {},
   "outputs": [
    {
     "data": {
      "text/html": [
       "<div>\n",
       "<style scoped>\n",
       "    .dataframe tbody tr th:only-of-type {\n",
       "        vertical-align: middle;\n",
       "    }\n",
       "\n",
       "    .dataframe tbody tr th {\n",
       "        vertical-align: top;\n",
       "    }\n",
       "\n",
       "    .dataframe thead th {\n",
       "        text-align: right;\n",
       "    }\n",
       "</style>\n",
       "<table border=\"1\" class=\"dataframe\">\n",
       "  <thead>\n",
       "    <tr style=\"text-align: right;\">\n",
       "      <th></th>\n",
       "      <th>INCIDENT_NUMBER</th>\n",
       "      <th>OFFENSE_CODE</th>\n",
       "      <th>OFFENSE_CODE_GROUP</th>\n",
       "      <th>OFFENSE_DESCRIPTION</th>\n",
       "      <th>DISTRICT</th>\n",
       "      <th>REPORTING_AREA</th>\n",
       "      <th>SHOOTING</th>\n",
       "      <th>OCCURRED_ON_DATE</th>\n",
       "      <th>YEAR</th>\n",
       "      <th>MONTH</th>\n",
       "      <th>DAY_OF_WEEK</th>\n",
       "      <th>HOUR</th>\n",
       "      <th>UCR_PART</th>\n",
       "      <th>STREET</th>\n",
       "      <th>Lat</th>\n",
       "      <th>Long</th>\n",
       "      <th>Location</th>\n",
       "    </tr>\n",
       "  </thead>\n",
       "  <tbody>\n",
       "    <tr>\n",
       "      <th>319068</th>\n",
       "      <td>I050310906-00</td>\n",
       "      <td>3125</td>\n",
       "      <td>Warrant Arrests</td>\n",
       "      <td>WARRANT ARREST</td>\n",
       "      <td>D4</td>\n",
       "      <td>285</td>\n",
       "      <td>NaN</td>\n",
       "      <td>2016-06-05 17:25:00</td>\n",
       "      <td>2016</td>\n",
       "      <td>6</td>\n",
       "      <td>Sunday</td>\n",
       "      <td>17</td>\n",
       "      <td>Part Three</td>\n",
       "      <td>COVENTRY ST</td>\n",
       "      <td>42.336951</td>\n",
       "      <td>-71.085748</td>\n",
       "      <td>(42.33695098, -71.08574813)</td>\n",
       "    </tr>\n",
       "    <tr>\n",
       "      <th>319069</th>\n",
       "      <td>I030217815-08</td>\n",
       "      <td>111</td>\n",
       "      <td>Homicide</td>\n",
       "      <td>MURDER, NON-NEGLIGIENT MANSLAUGHTER</td>\n",
       "      <td>E18</td>\n",
       "      <td>520</td>\n",
       "      <td>NaN</td>\n",
       "      <td>2015-07-09 13:38:00</td>\n",
       "      <td>2015</td>\n",
       "      <td>7</td>\n",
       "      <td>Thursday</td>\n",
       "      <td>13</td>\n",
       "      <td>Part One</td>\n",
       "      <td>RIVER ST</td>\n",
       "      <td>42.255926</td>\n",
       "      <td>-71.123172</td>\n",
       "      <td>(42.25592648, -71.12317207)</td>\n",
       "    </tr>\n",
       "    <tr>\n",
       "      <th>319070</th>\n",
       "      <td>I030217815-08</td>\n",
       "      <td>3125</td>\n",
       "      <td>Warrant Arrests</td>\n",
       "      <td>WARRANT ARREST</td>\n",
       "      <td>E18</td>\n",
       "      <td>520</td>\n",
       "      <td>NaN</td>\n",
       "      <td>2015-07-09 13:38:00</td>\n",
       "      <td>2015</td>\n",
       "      <td>7</td>\n",
       "      <td>Thursday</td>\n",
       "      <td>13</td>\n",
       "      <td>Part Three</td>\n",
       "      <td>RIVER ST</td>\n",
       "      <td>42.255926</td>\n",
       "      <td>-71.123172</td>\n",
       "      <td>(42.25592648, -71.12317207)</td>\n",
       "    </tr>\n",
       "    <tr>\n",
       "      <th>319071</th>\n",
       "      <td>I010370257-00</td>\n",
       "      <td>3125</td>\n",
       "      <td>Warrant Arrests</td>\n",
       "      <td>WARRANT ARREST</td>\n",
       "      <td>E13</td>\n",
       "      <td>569</td>\n",
       "      <td>NaN</td>\n",
       "      <td>2016-05-31 19:35:00</td>\n",
       "      <td>2016</td>\n",
       "      <td>5</td>\n",
       "      <td>Tuesday</td>\n",
       "      <td>19</td>\n",
       "      <td>Part Three</td>\n",
       "      <td>NEW WASHINGTON ST</td>\n",
       "      <td>42.302333</td>\n",
       "      <td>-71.111565</td>\n",
       "      <td>(42.30233307, -71.11156487)</td>\n",
       "    </tr>\n",
       "    <tr>\n",
       "      <th>319072</th>\n",
       "      <td>142052550</td>\n",
       "      <td>3125</td>\n",
       "      <td>Warrant Arrests</td>\n",
       "      <td>WARRANT ARREST</td>\n",
       "      <td>D4</td>\n",
       "      <td>903</td>\n",
       "      <td>NaN</td>\n",
       "      <td>2015-06-22 00:12:00</td>\n",
       "      <td>2015</td>\n",
       "      <td>6</td>\n",
       "      <td>Monday</td>\n",
       "      <td>0</td>\n",
       "      <td>Part Three</td>\n",
       "      <td>WASHINGTON ST</td>\n",
       "      <td>42.333839</td>\n",
       "      <td>-71.080290</td>\n",
       "      <td>(42.33383935, -71.08029038)</td>\n",
       "    </tr>\n",
       "  </tbody>\n",
       "</table>\n",
       "</div>"
      ],
      "text/plain": [
       "       INCIDENT_NUMBER  OFFENSE_CODE OFFENSE_CODE_GROUP  \\\n",
       "319068   I050310906-00          3125    Warrant Arrests   \n",
       "319069   I030217815-08           111           Homicide   \n",
       "319070   I030217815-08          3125    Warrant Arrests   \n",
       "319071   I010370257-00          3125    Warrant Arrests   \n",
       "319072       142052550          3125    Warrant Arrests   \n",
       "\n",
       "                        OFFENSE_DESCRIPTION DISTRICT REPORTING_AREA SHOOTING  \\\n",
       "319068                       WARRANT ARREST       D4            285      NaN   \n",
       "319069  MURDER, NON-NEGLIGIENT MANSLAUGHTER      E18            520      NaN   \n",
       "319070                       WARRANT ARREST      E18            520      NaN   \n",
       "319071                       WARRANT ARREST      E13            569      NaN   \n",
       "319072                       WARRANT ARREST       D4            903      NaN   \n",
       "\n",
       "           OCCURRED_ON_DATE  YEAR  MONTH DAY_OF_WEEK  HOUR    UCR_PART  \\\n",
       "319068  2016-06-05 17:25:00  2016      6      Sunday    17  Part Three   \n",
       "319069  2015-07-09 13:38:00  2015      7    Thursday    13    Part One   \n",
       "319070  2015-07-09 13:38:00  2015      7    Thursday    13  Part Three   \n",
       "319071  2016-05-31 19:35:00  2016      5     Tuesday    19  Part Three   \n",
       "319072  2015-06-22 00:12:00  2015      6      Monday     0  Part Three   \n",
       "\n",
       "                   STREET        Lat       Long                     Location  \n",
       "319068        COVENTRY ST  42.336951 -71.085748  (42.33695098, -71.08574813)  \n",
       "319069           RIVER ST  42.255926 -71.123172  (42.25592648, -71.12317207)  \n",
       "319070           RIVER ST  42.255926 -71.123172  (42.25592648, -71.12317207)  \n",
       "319071  NEW WASHINGTON ST  42.302333 -71.111565  (42.30233307, -71.11156487)  \n",
       "319072      WASHINGTON ST  42.333839 -71.080290  (42.33383935, -71.08029038)  "
      ]
     },
     "execution_count": 25,
     "metadata": {},
     "output_type": "execute_result"
    }
   ],
   "source": [
    "crime.tail() # Quick check of the end of the dataframe"
   ]
  },
  {
   "cell_type": "code",
   "execution_count": 33,
   "id": "623daddc-ce01-440c-86b7-e62655cfe6a1",
   "metadata": {},
   "outputs": [],
   "source": [
    "pd.options.display.max_rows = 6"
   ]
  },
  {
   "cell_type": "code",
   "execution_count": 34,
   "id": "6a220917-3d07-4b8a-8d71-9513ba7b4d55",
   "metadata": {},
   "outputs": [
    {
     "data": {
      "text/html": [
       "<div>\n",
       "<style scoped>\n",
       "    .dataframe tbody tr th:only-of-type {\n",
       "        vertical-align: middle;\n",
       "    }\n",
       "\n",
       "    .dataframe tbody tr th {\n",
       "        vertical-align: top;\n",
       "    }\n",
       "\n",
       "    .dataframe thead th {\n",
       "        text-align: right;\n",
       "    }\n",
       "</style>\n",
       "<table border=\"1\" class=\"dataframe\">\n",
       "  <thead>\n",
       "    <tr style=\"text-align: right;\">\n",
       "      <th></th>\n",
       "      <th>INCIDENT_NUMBER</th>\n",
       "      <th>OFFENSE_CODE</th>\n",
       "      <th>OFFENSE_CODE_GROUP</th>\n",
       "      <th>OFFENSE_DESCRIPTION</th>\n",
       "      <th>DISTRICT</th>\n",
       "      <th>REPORTING_AREA</th>\n",
       "      <th>SHOOTING</th>\n",
       "      <th>OCCURRED_ON_DATE</th>\n",
       "      <th>YEAR</th>\n",
       "      <th>MONTH</th>\n",
       "      <th>DAY_OF_WEEK</th>\n",
       "      <th>HOUR</th>\n",
       "      <th>UCR_PART</th>\n",
       "      <th>STREET</th>\n",
       "      <th>Lat</th>\n",
       "      <th>Long</th>\n",
       "      <th>Location</th>\n",
       "    </tr>\n",
       "  </thead>\n",
       "  <tbody>\n",
       "    <tr>\n",
       "      <th>0</th>\n",
       "      <td>I182070945</td>\n",
       "      <td>619</td>\n",
       "      <td>Larceny</td>\n",
       "      <td>LARCENY ALL OTHERS</td>\n",
       "      <td>D14</td>\n",
       "      <td>808</td>\n",
       "      <td>NaN</td>\n",
       "      <td>2018-09-02 13:00:00</td>\n",
       "      <td>2018</td>\n",
       "      <td>9</td>\n",
       "      <td>Sunday</td>\n",
       "      <td>13</td>\n",
       "      <td>Part One</td>\n",
       "      <td>LINCOLN ST</td>\n",
       "      <td>42.357791</td>\n",
       "      <td>-71.139371</td>\n",
       "      <td>(42.35779134, -71.13937053)</td>\n",
       "    </tr>\n",
       "    <tr>\n",
       "      <th>1</th>\n",
       "      <td>I182070943</td>\n",
       "      <td>1402</td>\n",
       "      <td>Vandalism</td>\n",
       "      <td>VANDALISM</td>\n",
       "      <td>C11</td>\n",
       "      <td>347</td>\n",
       "      <td>NaN</td>\n",
       "      <td>2018-08-21 00:00:00</td>\n",
       "      <td>2018</td>\n",
       "      <td>8</td>\n",
       "      <td>Tuesday</td>\n",
       "      <td>0</td>\n",
       "      <td>Part Two</td>\n",
       "      <td>HECLA ST</td>\n",
       "      <td>42.306821</td>\n",
       "      <td>-71.060300</td>\n",
       "      <td>(42.30682138, -71.06030035)</td>\n",
       "    </tr>\n",
       "    <tr>\n",
       "      <th>2</th>\n",
       "      <td>I182070941</td>\n",
       "      <td>3410</td>\n",
       "      <td>Towed</td>\n",
       "      <td>TOWED MOTOR VEHICLE</td>\n",
       "      <td>D4</td>\n",
       "      <td>151</td>\n",
       "      <td>NaN</td>\n",
       "      <td>2018-09-03 19:27:00</td>\n",
       "      <td>2018</td>\n",
       "      <td>9</td>\n",
       "      <td>Monday</td>\n",
       "      <td>19</td>\n",
       "      <td>Part Three</td>\n",
       "      <td>CAZENOVE ST</td>\n",
       "      <td>42.346589</td>\n",
       "      <td>-71.072429</td>\n",
       "      <td>(42.34658879, -71.07242943)</td>\n",
       "    </tr>\n",
       "    <tr>\n",
       "      <th>...</th>\n",
       "      <td>...</td>\n",
       "      <td>...</td>\n",
       "      <td>...</td>\n",
       "      <td>...</td>\n",
       "      <td>...</td>\n",
       "      <td>...</td>\n",
       "      <td>...</td>\n",
       "      <td>...</td>\n",
       "      <td>...</td>\n",
       "      <td>...</td>\n",
       "      <td>...</td>\n",
       "      <td>...</td>\n",
       "      <td>...</td>\n",
       "      <td>...</td>\n",
       "      <td>...</td>\n",
       "      <td>...</td>\n",
       "      <td>...</td>\n",
       "    </tr>\n",
       "    <tr>\n",
       "      <th>319070</th>\n",
       "      <td>I030217815-08</td>\n",
       "      <td>3125</td>\n",
       "      <td>Warrant Arrests</td>\n",
       "      <td>WARRANT ARREST</td>\n",
       "      <td>E18</td>\n",
       "      <td>520</td>\n",
       "      <td>NaN</td>\n",
       "      <td>2015-07-09 13:38:00</td>\n",
       "      <td>2015</td>\n",
       "      <td>7</td>\n",
       "      <td>Thursday</td>\n",
       "      <td>13</td>\n",
       "      <td>Part Three</td>\n",
       "      <td>RIVER ST</td>\n",
       "      <td>42.255926</td>\n",
       "      <td>-71.123172</td>\n",
       "      <td>(42.25592648, -71.12317207)</td>\n",
       "    </tr>\n",
       "    <tr>\n",
       "      <th>319071</th>\n",
       "      <td>I010370257-00</td>\n",
       "      <td>3125</td>\n",
       "      <td>Warrant Arrests</td>\n",
       "      <td>WARRANT ARREST</td>\n",
       "      <td>E13</td>\n",
       "      <td>569</td>\n",
       "      <td>NaN</td>\n",
       "      <td>2016-05-31 19:35:00</td>\n",
       "      <td>2016</td>\n",
       "      <td>5</td>\n",
       "      <td>Tuesday</td>\n",
       "      <td>19</td>\n",
       "      <td>Part Three</td>\n",
       "      <td>NEW WASHINGTON ST</td>\n",
       "      <td>42.302333</td>\n",
       "      <td>-71.111565</td>\n",
       "      <td>(42.30233307, -71.11156487)</td>\n",
       "    </tr>\n",
       "    <tr>\n",
       "      <th>319072</th>\n",
       "      <td>142052550</td>\n",
       "      <td>3125</td>\n",
       "      <td>Warrant Arrests</td>\n",
       "      <td>WARRANT ARREST</td>\n",
       "      <td>D4</td>\n",
       "      <td>903</td>\n",
       "      <td>NaN</td>\n",
       "      <td>2015-06-22 00:12:00</td>\n",
       "      <td>2015</td>\n",
       "      <td>6</td>\n",
       "      <td>Monday</td>\n",
       "      <td>0</td>\n",
       "      <td>Part Three</td>\n",
       "      <td>WASHINGTON ST</td>\n",
       "      <td>42.333839</td>\n",
       "      <td>-71.080290</td>\n",
       "      <td>(42.33383935, -71.08029038)</td>\n",
       "    </tr>\n",
       "  </tbody>\n",
       "</table>\n",
       "<p>319050 rows × 17 columns</p>\n",
       "</div>"
      ],
      "text/plain": [
       "       INCIDENT_NUMBER  OFFENSE_CODE OFFENSE_CODE_GROUP  OFFENSE_DESCRIPTION  \\\n",
       "0           I182070945           619            Larceny   LARCENY ALL OTHERS   \n",
       "1           I182070943          1402          Vandalism            VANDALISM   \n",
       "2           I182070941          3410              Towed  TOWED MOTOR VEHICLE   \n",
       "...                ...           ...                ...                  ...   \n",
       "319070   I030217815-08          3125    Warrant Arrests       WARRANT ARREST   \n",
       "319071   I010370257-00          3125    Warrant Arrests       WARRANT ARREST   \n",
       "319072       142052550          3125    Warrant Arrests       WARRANT ARREST   \n",
       "\n",
       "       DISTRICT REPORTING_AREA SHOOTING     OCCURRED_ON_DATE  YEAR  MONTH  \\\n",
       "0           D14            808      NaN  2018-09-02 13:00:00  2018      9   \n",
       "1           C11            347      NaN  2018-08-21 00:00:00  2018      8   \n",
       "2            D4            151      NaN  2018-09-03 19:27:00  2018      9   \n",
       "...         ...            ...      ...                  ...   ...    ...   \n",
       "319070      E18            520      NaN  2015-07-09 13:38:00  2015      7   \n",
       "319071      E13            569      NaN  2016-05-31 19:35:00  2016      5   \n",
       "319072       D4            903      NaN  2015-06-22 00:12:00  2015      6   \n",
       "\n",
       "       DAY_OF_WEEK  HOUR    UCR_PART             STREET        Lat       Long  \\\n",
       "0           Sunday    13    Part One         LINCOLN ST  42.357791 -71.139371   \n",
       "1          Tuesday     0    Part Two           HECLA ST  42.306821 -71.060300   \n",
       "2           Monday    19  Part Three        CAZENOVE ST  42.346589 -71.072429   \n",
       "...            ...   ...         ...                ...        ...        ...   \n",
       "319070    Thursday    13  Part Three           RIVER ST  42.255926 -71.123172   \n",
       "319071     Tuesday    19  Part Three  NEW WASHINGTON ST  42.302333 -71.111565   \n",
       "319072      Monday     0  Part Three      WASHINGTON ST  42.333839 -71.080290   \n",
       "\n",
       "                           Location  \n",
       "0       (42.35779134, -71.13937053)  \n",
       "1       (42.30682138, -71.06030035)  \n",
       "2       (42.34658879, -71.07242943)  \n",
       "...                             ...  \n",
       "319070  (42.25592648, -71.12317207)  \n",
       "319071  (42.30233307, -71.11156487)  \n",
       "319072  (42.33383935, -71.08029038)  \n",
       "\n",
       "[319050 rows x 17 columns]"
      ]
     },
     "execution_count": 34,
     "metadata": {},
     "output_type": "execute_result"
    }
   ],
   "source": [
    "crime"
   ]
  },
  {
   "cell_type": "code",
   "execution_count": 27,
   "id": "19eae03d-d5c2-4ec8-be17-68c9bb820174",
   "metadata": {},
   "outputs": [
    {
     "name": "stdout",
     "output_type": "stream",
     "text": [
      "<class 'pandas.core.frame.DataFrame'>\n",
      "Index: 319050 entries, 0 to 319072\n",
      "Data columns (total 17 columns):\n",
      " #   Column               Non-Null Count   Dtype  \n",
      "---  ------               --------------   -----  \n",
      " 0   INCIDENT_NUMBER      319050 non-null  object \n",
      " 1   OFFENSE_CODE         319050 non-null  int64  \n",
      " 2   OFFENSE_CODE_GROUP   319050 non-null  object \n",
      " 3   OFFENSE_DESCRIPTION  319050 non-null  object \n",
      " 4   DISTRICT             317285 non-null  object \n",
      " 5   REPORTING_AREA       319050 non-null  object \n",
      " 6   SHOOTING             1019 non-null    object \n",
      " 7   OCCURRED_ON_DATE     319050 non-null  object \n",
      " 8   YEAR                 319050 non-null  int64  \n",
      " 9   MONTH                319050 non-null  int64  \n",
      " 10  DAY_OF_WEEK          319050 non-null  object \n",
      " 11  HOUR                 319050 non-null  int64  \n",
      " 12  UCR_PART             318960 non-null  object \n",
      " 13  STREET               308179 non-null  object \n",
      " 14  Lat                  299052 non-null  float64\n",
      " 15  Long                 299052 non-null  float64\n",
      " 16  Location             319050 non-null  object \n",
      "dtypes: float64(2), int64(4), object(11)\n",
      "memory usage: 43.8+ MB\n"
     ]
    }
   ],
   "source": [
    "crime.info()"
   ]
  },
  {
   "cell_type": "code",
   "execution_count": 35,
   "id": "9a20aae1-c03b-4055-9b51-cf6c37f24f86",
   "metadata": {},
   "outputs": [],
   "source": [
    "#Changing the data type from object to datetime for the OCCURRED_ON_DATE column\n",
    "crime.OCCURRED_ON_DATE = pd.to_datetime(crime.OCCURRED_ON_DATE)"
   ]
  },
  {
   "cell_type": "code",
   "execution_count": 36,
   "id": "eb4ef910-7cac-4640-8f55-3a2c897f2b4c",
   "metadata": {},
   "outputs": [
    {
     "name": "stdout",
     "output_type": "stream",
     "text": [
      "<class 'pandas.core.frame.DataFrame'>\n",
      "Index: 319050 entries, 0 to 319072\n",
      "Data columns (total 17 columns):\n",
      " #   Column               Non-Null Count   Dtype         \n",
      "---  ------               --------------   -----         \n",
      " 0   INCIDENT_NUMBER      319050 non-null  object        \n",
      " 1   OFFENSE_CODE         319050 non-null  int64         \n",
      " 2   OFFENSE_CODE_GROUP   319050 non-null  object        \n",
      " 3   OFFENSE_DESCRIPTION  319050 non-null  object        \n",
      " 4   DISTRICT             317285 non-null  object        \n",
      " 5   REPORTING_AREA       319050 non-null  object        \n",
      " 6   SHOOTING             1019 non-null    object        \n",
      " 7   OCCURRED_ON_DATE     319050 non-null  datetime64[ns]\n",
      " 8   YEAR                 319050 non-null  int64         \n",
      " 9   MONTH                319050 non-null  int64         \n",
      " 10  DAY_OF_WEEK          319050 non-null  object        \n",
      " 11  HOUR                 319050 non-null  int64         \n",
      " 12  UCR_PART             318960 non-null  object        \n",
      " 13  STREET               308179 non-null  object        \n",
      " 14  Lat                  299052 non-null  float64       \n",
      " 15  Long                 299052 non-null  float64       \n",
      " 16  Location             319050 non-null  object        \n",
      "dtypes: datetime64[ns](1), float64(2), int64(4), object(10)\n",
      "memory usage: 43.8+ MB\n"
     ]
    }
   ],
   "source": [
    "crime.info()"
   ]
  },
  {
   "cell_type": "code",
   "execution_count": 37,
   "id": "beb8fb15-02ea-4705-b7a9-59ea6489eee6",
   "metadata": {},
   "outputs": [
    {
     "data": {
      "text/plain": [
       "0         2018\n",
       "1         2018\n",
       "2         2018\n",
       "          ... \n",
       "319070    2015\n",
       "319071    2016\n",
       "319072    2015\n",
       "Name: OCCURRED_ON_DATE, Length: 319050, dtype: int32"
      ]
     },
     "execution_count": 37,
     "metadata": {},
     "output_type": "execute_result"
    }
   ],
   "source": [
    "# easily extract datetime information from the OCCURRED_ON_DATE column\n",
    "crime.OCCURRED_ON_DATE.dt.year"
   ]
  },
  {
   "cell_type": "code",
   "execution_count": 38,
   "id": "ddb85fc5-1020-4e02-a7e7-82825ef06f75",
   "metadata": {},
   "outputs": [
    {
     "data": {
      "text/plain": [
       "0         9\n",
       "1         8\n",
       "2         9\n",
       "         ..\n",
       "319070    7\n",
       "319071    5\n",
       "319072    6\n",
       "Name: OCCURRED_ON_DATE, Length: 319050, dtype: int32"
      ]
     },
     "execution_count": 38,
     "metadata": {},
     "output_type": "execute_result"
    }
   ],
   "source": [
    "crime.OCCURRED_ON_DATE.dt.month"
   ]
  },
  {
   "cell_type": "code",
   "execution_count": 40,
   "id": "4e965e73-c62b-40ad-a539-f4e34674c573",
   "metadata": {},
   "outputs": [
    {
     "data": {
      "text/plain": [
       "0         35\n",
       "1         34\n",
       "2         36\n",
       "          ..\n",
       "319070    28\n",
       "319071    22\n",
       "319072    26\n",
       "Name: week, Length: 319050, dtype: UInt32"
      ]
     },
     "execution_count": 40,
     "metadata": {},
     "output_type": "execute_result"
    }
   ],
   "source": [
    "crime.OCCURRED_ON_DATE.dt.isocalendar().week"
   ]
  },
  {
   "cell_type": "code",
   "execution_count": 41,
   "id": "eca7c7c2-a72e-41e3-825e-6a954e70a474",
   "metadata": {},
   "outputs": [
    {
     "data": {
      "text/plain": [
       "0         13\n",
       "1          0\n",
       "2         19\n",
       "          ..\n",
       "319070    13\n",
       "319071    19\n",
       "319072     0\n",
       "Name: OCCURRED_ON_DATE, Length: 319050, dtype: int32"
      ]
     },
     "execution_count": 41,
     "metadata": {},
     "output_type": "execute_result"
    }
   ],
   "source": [
    "crime.OCCURRED_ON_DATE.dt.hour"
   ]
  },
  {
   "cell_type": "code",
   "execution_count": 42,
   "id": "97b978df-e01f-4c63-b9e8-56d518bcc14d",
   "metadata": {},
   "outputs": [
    {
     "data": {
      "text/plain": [
       "0          0\n",
       "1          0\n",
       "2         27\n",
       "          ..\n",
       "319070    38\n",
       "319071    35\n",
       "319072    12\n",
       "Name: OCCURRED_ON_DATE, Length: 319050, dtype: int32"
      ]
     },
     "execution_count": 42,
     "metadata": {},
     "output_type": "execute_result"
    }
   ],
   "source": [
    "crime.OCCURRED_ON_DATE.dt.minute"
   ]
  },
  {
   "cell_type": "code",
   "execution_count": 43,
   "id": "9c75c0d4-f280-4743-b247-8b75ce168146",
   "metadata": {},
   "outputs": [
    {
     "data": {
      "text/html": [
       "<div>\n",
       "<style scoped>\n",
       "    .dataframe tbody tr th:only-of-type {\n",
       "        vertical-align: middle;\n",
       "    }\n",
       "\n",
       "    .dataframe tbody tr th {\n",
       "        vertical-align: top;\n",
       "    }\n",
       "\n",
       "    .dataframe thead th {\n",
       "        text-align: right;\n",
       "    }\n",
       "</style>\n",
       "<table border=\"1\" class=\"dataframe\">\n",
       "  <thead>\n",
       "    <tr style=\"text-align: right;\">\n",
       "      <th></th>\n",
       "      <th>OFFENSE_CODE</th>\n",
       "      <th>OCCURRED_ON_DATE</th>\n",
       "      <th>YEAR</th>\n",
       "      <th>MONTH</th>\n",
       "      <th>HOUR</th>\n",
       "      <th>Lat</th>\n",
       "      <th>Long</th>\n",
       "    </tr>\n",
       "  </thead>\n",
       "  <tbody>\n",
       "    <tr>\n",
       "      <th>count</th>\n",
       "      <td>319050.000000</td>\n",
       "      <td>319050</td>\n",
       "      <td>319050.000000</td>\n",
       "      <td>319050.000000</td>\n",
       "      <td>319050.000000</td>\n",
       "      <td>299052.000000</td>\n",
       "      <td>299052.000000</td>\n",
       "    </tr>\n",
       "    <tr>\n",
       "      <th>mean</th>\n",
       "      <td>2317.516957</td>\n",
       "      <td>2017-01-25 12:35:59.149211904</td>\n",
       "      <td>2016.560674</td>\n",
       "      <td>6.609622</td>\n",
       "      <td>13.118176</td>\n",
       "      <td>42.214373</td>\n",
       "      <td>-70.908260</td>\n",
       "    </tr>\n",
       "    <tr>\n",
       "      <th>min</th>\n",
       "      <td>111.000000</td>\n",
       "      <td>2015-06-15 00:00:00</td>\n",
       "      <td>2015.000000</td>\n",
       "      <td>1.000000</td>\n",
       "      <td>0.000000</td>\n",
       "      <td>-1.000000</td>\n",
       "      <td>-71.178674</td>\n",
       "    </tr>\n",
       "    <tr>\n",
       "      <th>...</th>\n",
       "      <td>...</td>\n",
       "      <td>...</td>\n",
       "      <td>...</td>\n",
       "      <td>...</td>\n",
       "      <td>...</td>\n",
       "      <td>...</td>\n",
       "      <td>...</td>\n",
       "    </tr>\n",
       "    <tr>\n",
       "      <th>75%</th>\n",
       "      <td>3201.000000</td>\n",
       "      <td>2017-11-05 18:39:00</td>\n",
       "      <td>2017.000000</td>\n",
       "      <td>9.000000</td>\n",
       "      <td>18.000000</td>\n",
       "      <td>42.348624</td>\n",
       "      <td>-71.062467</td>\n",
       "    </tr>\n",
       "    <tr>\n",
       "      <th>max</th>\n",
       "      <td>3831.000000</td>\n",
       "      <td>2018-09-03 21:25:00</td>\n",
       "      <td>2018.000000</td>\n",
       "      <td>12.000000</td>\n",
       "      <td>23.000000</td>\n",
       "      <td>42.395042</td>\n",
       "      <td>-1.000000</td>\n",
       "    </tr>\n",
       "    <tr>\n",
       "      <th>std</th>\n",
       "      <td>1185.308921</td>\n",
       "      <td>NaN</td>\n",
       "      <td>0.996312</td>\n",
       "      <td>3.273677</td>\n",
       "      <td>6.294258</td>\n",
       "      <td>2.159845</td>\n",
       "      <td>3.493746</td>\n",
       "    </tr>\n",
       "  </tbody>\n",
       "</table>\n",
       "<p>8 rows × 7 columns</p>\n",
       "</div>"
      ],
      "text/plain": [
       "        OFFENSE_CODE               OCCURRED_ON_DATE           YEAR  \\\n",
       "count  319050.000000                         319050  319050.000000   \n",
       "mean     2317.516957  2017-01-25 12:35:59.149211904    2016.560674   \n",
       "min       111.000000            2015-06-15 00:00:00    2015.000000   \n",
       "...              ...                            ...            ...   \n",
       "75%      3201.000000            2017-11-05 18:39:00    2017.000000   \n",
       "max      3831.000000            2018-09-03 21:25:00    2018.000000   \n",
       "std      1185.308921                            NaN       0.996312   \n",
       "\n",
       "               MONTH           HOUR            Lat           Long  \n",
       "count  319050.000000  319050.000000  299052.000000  299052.000000  \n",
       "mean        6.609622      13.118176      42.214373     -70.908260  \n",
       "min         1.000000       0.000000      -1.000000     -71.178674  \n",
       "...              ...            ...            ...            ...  \n",
       "75%         9.000000      18.000000      42.348624     -71.062467  \n",
       "max        12.000000      23.000000      42.395042      -1.000000  \n",
       "std         3.273677       6.294258       2.159845       3.493746  \n",
       "\n",
       "[8 rows x 7 columns]"
      ]
     },
     "execution_count": 43,
     "metadata": {},
     "output_type": "execute_result"
    }
   ],
   "source": [
    "crime.describe()"
   ]
  },
  {
   "cell_type": "code",
   "execution_count": 44,
   "id": "dd955cb4-3c21-4bd2-b595-67ee82d7f9af",
   "metadata": {},
   "outputs": [
    {
     "data": {
      "text/html": [
       "<div>\n",
       "<style scoped>\n",
       "    .dataframe tbody tr th:only-of-type {\n",
       "        vertical-align: middle;\n",
       "    }\n",
       "\n",
       "    .dataframe tbody tr th {\n",
       "        vertical-align: top;\n",
       "    }\n",
       "\n",
       "    .dataframe thead th {\n",
       "        text-align: right;\n",
       "    }\n",
       "</style>\n",
       "<table border=\"1\" class=\"dataframe\">\n",
       "  <thead>\n",
       "    <tr style=\"text-align: right;\">\n",
       "      <th></th>\n",
       "      <th>INCIDENT_NUMBER</th>\n",
       "      <th>OFFENSE_CODE_GROUP</th>\n",
       "      <th>OFFENSE_DESCRIPTION</th>\n",
       "      <th>DISTRICT</th>\n",
       "      <th>REPORTING_AREA</th>\n",
       "      <th>SHOOTING</th>\n",
       "      <th>DAY_OF_WEEK</th>\n",
       "      <th>UCR_PART</th>\n",
       "      <th>STREET</th>\n",
       "      <th>Location</th>\n",
       "    </tr>\n",
       "  </thead>\n",
       "  <tbody>\n",
       "    <tr>\n",
       "      <th>count</th>\n",
       "      <td>319050</td>\n",
       "      <td>319050</td>\n",
       "      <td>319050</td>\n",
       "      <td>317285</td>\n",
       "      <td>319050</td>\n",
       "      <td>1019</td>\n",
       "      <td>319050</td>\n",
       "      <td>318960</td>\n",
       "      <td>308179</td>\n",
       "      <td>319050</td>\n",
       "    </tr>\n",
       "    <tr>\n",
       "      <th>unique</th>\n",
       "      <td>282517</td>\n",
       "      <td>67</td>\n",
       "      <td>244</td>\n",
       "      <td>12</td>\n",
       "      <td>879</td>\n",
       "      <td>1</td>\n",
       "      <td>7</td>\n",
       "      <td>4</td>\n",
       "      <td>4657</td>\n",
       "      <td>18194</td>\n",
       "    </tr>\n",
       "    <tr>\n",
       "      <th>top</th>\n",
       "      <td>I162030584</td>\n",
       "      <td>Motor Vehicle Accident Response</td>\n",
       "      <td>SICK/INJURED/MEDICAL - PERSON</td>\n",
       "      <td>B2</td>\n",
       "      <td></td>\n",
       "      <td>Y</td>\n",
       "      <td>Friday</td>\n",
       "      <td>Part Three</td>\n",
       "      <td>WASHINGTON ST</td>\n",
       "      <td>(0.00000000, 0.00000000)</td>\n",
       "    </tr>\n",
       "    <tr>\n",
       "      <th>freq</th>\n",
       "      <td>13</td>\n",
       "      <td>37132</td>\n",
       "      <td>18783</td>\n",
       "      <td>49940</td>\n",
       "      <td>20250</td>\n",
       "      <td>1019</td>\n",
       "      <td>48489</td>\n",
       "      <td>158537</td>\n",
       "      <td>14192</td>\n",
       "      <td>19998</td>\n",
       "    </tr>\n",
       "  </tbody>\n",
       "</table>\n",
       "</div>"
      ],
      "text/plain": [
       "       INCIDENT_NUMBER               OFFENSE_CODE_GROUP  \\\n",
       "count           319050                           319050   \n",
       "unique          282517                               67   \n",
       "top         I162030584  Motor Vehicle Accident Response   \n",
       "freq                13                            37132   \n",
       "\n",
       "                  OFFENSE_DESCRIPTION DISTRICT REPORTING_AREA SHOOTING  \\\n",
       "count                          319050   317285         319050     1019   \n",
       "unique                            244       12            879        1   \n",
       "top     SICK/INJURED/MEDICAL - PERSON       B2                       Y   \n",
       "freq                            18783    49940          20250     1019   \n",
       "\n",
       "       DAY_OF_WEEK    UCR_PART         STREET                  Location  \n",
       "count       319050      318960         308179                    319050  \n",
       "unique           7           4           4657                     18194  \n",
       "top         Friday  Part Three  WASHINGTON ST  (0.00000000, 0.00000000)  \n",
       "freq         48489      158537          14192                     19998  "
      ]
     },
     "execution_count": 44,
     "metadata": {},
     "output_type": "execute_result"
    }
   ],
   "source": [
    "crime.describe(include='object')"
   ]
  },
  {
   "cell_type": "code",
   "execution_count": 45,
   "id": "242346d5-1df9-46d2-af9e-a9ad588f1039",
   "metadata": {},
   "outputs": [
    {
     "data": {
      "text/plain": [
       "Index(['INCIDENT_NUMBER', 'OFFENSE_CODE', 'OFFENSE_CODE_GROUP',\n",
       "       'OFFENSE_DESCRIPTION', 'DISTRICT', 'REPORTING_AREA', 'SHOOTING',\n",
       "       'OCCURRED_ON_DATE', 'YEAR', 'MONTH', 'DAY_OF_WEEK', 'HOUR', 'UCR_PART',\n",
       "       'STREET', 'Lat', 'Long', 'Location'],\n",
       "      dtype='object')"
      ]
     },
     "execution_count": 45,
     "metadata": {},
     "output_type": "execute_result"
    }
   ],
   "source": [
    "crime.columns"
   ]
  },
  {
   "cell_type": "code",
   "execution_count": 47,
   "id": "be1b8f53-c518-4dca-a4c2-0c9b3a508902",
   "metadata": {},
   "outputs": [
    {
     "data": {
      "text/plain": [
       "Index(['DISTRICT', 'SHOOTING', 'UCR_PART', 'STREET', 'Lat', 'Long'], dtype='object')"
      ]
     },
     "execution_count": 47,
     "metadata": {},
     "output_type": "execute_result"
    }
   ],
   "source": [
    "crime.columns[crime.isnull().any()]"
   ]
  },
  {
   "cell_type": "code",
   "execution_count": 49,
   "id": "ace3a79f-53a7-4883-b921-2e222c0ab79e",
   "metadata": {},
   "outputs": [
    {
     "data": {
      "text/plain": [
       "Index(['INCIDENT_NUMBER', 'OFFENSE_CODE', 'OFFENSE_CODE_GROUP',\n",
       "       'OFFENSE_DESCRIPTION', 'REPORTING_AREA', 'OCCURRED_ON_DATE', 'YEAR',\n",
       "       'MONTH', 'DAY_OF_WEEK', 'HOUR', 'Location'],\n",
       "      dtype='object')"
      ]
     },
     "execution_count": 49,
     "metadata": {},
     "output_type": "execute_result"
    }
   ],
   "source": [
    "crime.columns[np.sum(crime.isnull()) == 0]"
   ]
  },
  {
   "cell_type": "code",
   "execution_count": 50,
   "id": "182e8192-b1a2-4292-8b99-f1ab250d845c",
   "metadata": {},
   "outputs": [
    {
     "name": "stdout",
     "output_type": "stream",
     "text": [
      "Missing values in each column \n",
      "\n"
     ]
    },
    {
     "data": {
      "text/plain": [
       "INCIDENT_NUMBER           0\n",
       "OFFENSE_CODE              0\n",
       "OFFENSE_CODE_GROUP        0\n",
       "                      ...  \n",
       "Lat                   19998\n",
       "Long                  19998\n",
       "Location                  0\n",
       "Length: 17, dtype: int64"
      ]
     },
     "execution_count": 50,
     "metadata": {},
     "output_type": "execute_result"
    }
   ],
   "source": [
    "# Checking for the number of missing values in each column\n",
    "print('Missing values in each column \\n')\n",
    "crime[crime.columns].isnull().sum()"
   ]
  },
  {
   "cell_type": "code",
   "execution_count": 55,
   "id": "97630972-e536-4a95-91f5-f8d71b9c0e57",
   "metadata": {},
   "outputs": [
    {
     "name": "stdout",
     "output_type": "stream",
     "text": [
      "INCIDENT_NUMBERhas282517unique values\n",
      "OFFENSE_CODEhas222unique values\n",
      "OFFENSE_CODE_GROUPhas67unique values\n",
      "OFFENSE_DESCRIPTIONhas244unique values\n",
      "DISTRICThas12unique values\n",
      "REPORTING_AREAhas879unique values\n",
      "SHOOTINGhas1unique values\n",
      "OCCURRED_ON_DATEhas233229unique values\n",
      "YEARhas4unique values\n",
      "MONTHhas12unique values\n",
      "DAY_OF_WEEKhas7unique values\n",
      "HOURhas24unique values\n",
      "UCR_PARThas4unique values\n",
      "STREEThas4657unique values\n",
      "Lathas18178unique values\n",
      "Longhas18178unique values\n",
      "Locationhas18194unique values\n"
     ]
    }
   ],
   "source": [
    "# Checking for the number of missing values in each column\n",
    "for col in crime.columns:\n",
    "    unique_count = crime[col].nunique()\n",
    "    print(col+\"has\"+str(unique_count)+\"unique values\")"
   ]
  },
  {
   "cell_type": "markdown",
   "id": "cf640590-f454-4743-beb9-e985dedf94df",
   "metadata": {},
   "source": [
    "### Answer some questions"
   ]
  },
  {
   "cell_type": "code",
   "execution_count": 56,
   "id": "6a5d28fa-0bb0-4b76-aa66-815eb0d55446",
   "metadata": {},
   "outputs": [
    {
     "data": {
      "text/plain": [
       "OFFENSE_CODE_GROUP\n",
       "Motor Vehicle Accident Response              37132\n",
       "Larceny                                      25935\n",
       "Medical Assistance                           23540\n",
       "                                             ...  \n",
       "Biological Threat                                2\n",
       "HUMAN TRAFFICKING - INVOLUNTARY SERVITUDE        2\n",
       "Burglary - No Property Taken                     2\n",
       "Name: count, Length: 67, dtype: int64"
      ]
     },
     "execution_count": 56,
     "metadata": {},
     "output_type": "execute_result"
    }
   ],
   "source": [
    "# What are the most common crimes in terms of offense group?\n",
    "crime.OFFENSE_CODE_GROUP.value_counts()"
   ]
  },
  {
   "cell_type": "code",
   "execution_count": 57,
   "id": "751c6d05-4a97-4afa-96b3-52efa52c969f",
   "metadata": {},
   "outputs": [
    {
     "data": {
      "text/plain": [
       "OFFENSE_CODE_GROUP\n",
       "Motor Vehicle Accident Response    0.116383\n",
       "Larceny                            0.081288\n",
       "Medical Assistance                 0.073782\n",
       "                                     ...   \n",
       "Vandalism                          0.048312\n",
       "Verbal Disputes                    0.041056\n",
       "Towed                              0.035377\n",
       "Name: count, Length: 10, dtype: float64"
      ]
     },
     "metadata": {},
     "output_type": "display_data"
    },
    {
     "data": {
      "image/png": "[encoded data removed]",
      "text/plain": [
       "<Figure size 640x480 with 1 Axes>"
      ]
     },
     "metadata": {},
     "output_type": "display_data"
    }
   ],
   "source": [
    "offense_group_vals = crime.OFFENSE_CODE_GROUP.value_counts()[:10]\n",
    "\n",
    "display(offense_group_vals / crime.shape[0])\n",
    "\n",
    "# Creating a bar chart of the Top 10 offense groups\n",
    "(offense_group_vals / crime.shape[0]).plot(kind='bar');\n",
    "plt.title('Top 10 Offense Groups (as % of all crimes)');"
   ]
  },
  {
   "cell_type": "code",
   "execution_count": 58,
   "id": "9a7b5eae-72cf-4dcb-81d4-55a0aa38e5d9",
   "metadata": {},
   "outputs": [
    {
     "data": {
      "text/plain": [
       "OFFENSE_CODE_GROUP\n",
       "Burglary - No Property Taken                  2\n",
       "HUMAN TRAFFICKING - INVOLUNTARY SERVITUDE     2\n",
       "Biological Threat                             2\n",
       "                                             ..\n",
       "Explosives                                   27\n",
       "Phone Call Complaints                        31\n",
       "Aircraft                                     36\n",
       "Name: count, Length: 10, dtype: int64"
      ]
     },
     "execution_count": 58,
     "metadata": {},
     "output_type": "execute_result"
    }
   ],
   "source": [
    "# What are the least common offense groups?\n",
    "crime.OFFENSE_CODE_GROUP.value_counts().sort_values(ascending=True)[:10]"
   ]
  },
  {
   "cell_type": "code",
   "execution_count": 59,
   "id": "65ad7b25-5cf4-459c-88b0-0cdf85005ca5",
   "metadata": {},
   "outputs": [
    {
     "data": {
      "text/plain": [
       "OFFENSE_DESCRIPTION\n",
       "SICK/INJURED/MEDICAL - PERSON                  18783\n",
       "INVESTIGATE PERSON                             18753\n",
       "M/V - LEAVING SCENE - PROPERTY DAMAGE          16323\n",
       "                                               ...  \n",
       "DRUGS - GLUE INHALATION                            1\n",
       "ROBBERY - KNIFE - STREET                           1\n",
       "DRUGS - POSS CLASS D - INTENT MFR DIST DISP        1\n",
       "Name: count, Length: 244, dtype: int64"
      ]
     },
     "execution_count": 59,
     "metadata": {},
     "output_type": "execute_result"
    }
   ],
   "source": [
    "# Question 1 - What are the most common offense descriptions?\n",
    "crime.OFFENSE_DESCRIPTION.value_counts()"
   ]
  },
  {
   "cell_type": "code",
   "execution_count": 60,
   "id": "4bc5c1f8-9269-49d3-91c5-3f9dbbfc219b",
   "metadata": {},
   "outputs": [
    {
     "data": {
      "text/plain": [
       "OFFENSE_DESCRIPTION\n",
       "SICK/INJURED/MEDICAL - PERSON            0.058872\n",
       "INVESTIGATE PERSON                       0.058778\n",
       "M/V - LEAVING SCENE - PROPERTY DAMAGE    0.051161\n",
       "                                           ...   \n",
       "INVESTIGATE PROPERTY                     0.034866\n",
       "LARCENY THEFT FROM BUILDING              0.028425\n",
       "THREATS TO DO BODILY HARM                0.028340\n",
       "Name: count, Length: 10, dtype: float64"
      ]
     },
     "metadata": {},
     "output_type": "display_data"
    },
    {
     "data": {
      "image/png": "[encoded data removed]",
      "text/plain": [
       "<Figure size 640x480 with 1 Axes>"
      ]
     },
     "metadata": {},
     "output_type": "display_data"
    }
   ],
   "source": [
    "# Question 2 - Now try and create a bar chart of the Top 10 Offense Descriptions as a % of total crimes\n",
    "\n",
    "offense_description_vals = crime.OFFENSE_DESCRIPTION.value_counts()[:10]\n",
    "\n",
    "display(offense_description_vals / crime.shape[0])\n",
    "\n",
    "(offense_description_vals / crime.shape[0]).plot(kind='bar');\n",
    "plt.title('Top 10 Offense Descriptions (as % of all crimes)');"
   ]
  },
  {
   "cell_type": "code",
   "execution_count": 69,
   "id": "885e2cdf-622d-491e-b059-a3553faaf3c8",
   "metadata": {},
   "outputs": [
    {
     "data": {
      "text/plain": [
       "Text(0.5, 1.0, 'Number of crimes by Year')"
      ]
     },
     "execution_count": 69,
     "metadata": {},
     "output_type": "execute_result"
    },
    {
     "data": {
      "image/png": "[encoded data removed]",
      "text/plain": [
       "<Figure size 640x480 with 1 Axes>"
      ]
     },
     "metadata": {},
     "output_type": "display_data"
    }
   ],
   "source": [
    "crime.groupby('YEAR').count()['INCIDENT_NUMBER'].plot(kind='bar');\n",
    "plt.title('Number of crimes by Year')"
   ]
  },
  {
   "cell_type": "code",
   "execution_count": 70,
   "id": "1d0b57a7-9f6c-49f2-ada8-a7385ee8b415",
   "metadata": {},
   "outputs": [
    {
     "data": {
      "text/plain": [
       "DAY_OF_WEEK\n",
       "Friday       48489\n",
       "Wednesday    46727\n",
       "Thursday     46655\n",
       "             ...  \n",
       "Monday       45674\n",
       "Saturday     44816\n",
       "Sunday       40313\n",
       "Name: INCIDENT_NUMBER, Length: 7, dtype: int64"
      ]
     },
     "metadata": {},
     "output_type": "display_data"
    },
    {
     "data": {
      "text/plain": [
       "Text(0.5, 1.0, 'Number of crimes by Day')"
      ]
     },
     "execution_count": 70,
     "metadata": {},
     "output_type": "execute_result"
    },
    {
     "data": {
      "image/png": "[encoded data removed]",
      "text/plain": [
       "<Figure size 640x480 with 1 Axes>"
      ]
     },
     "metadata": {},
     "output_type": "display_data"
    }
   ],
   "source": [
    "# Question 3 - Are there more crimes committed on specific days?\n",
    "\n",
    "display(crime.groupby('DAY_OF_WEEK').count()['INCIDENT_NUMBER'].sort_values(ascending=False))\n",
    "\n",
    "crime.groupby('DAY_OF_WEEK').count()['INCIDENT_NUMBER'].sort_values(ascending=False).plot(kind='bar');\n",
    "plt.title('Number of crimes by Day')"
   ]
  },
  {
   "cell_type": "code",
   "execution_count": 72,
   "id": "89c18c6c-8c9e-4861-91fb-7d03dce054db",
   "metadata": {},
   "outputs": [
    {
     "data": {
      "text/plain": [
       "Text(0.5, 1.0, 'Number of crimes by Hour')"
      ]
     },
     "execution_count": 72,
     "metadata": {},
     "output_type": "execute_result"
    },
    {
     "data": {
      "image/png": "[encoded data removed]",
      "text/plain": [
       "<Figure size 640x480 with 1 Axes>"
      ]
     },
     "metadata": {},
     "output_type": "display_data"
    }
   ],
   "source": [
    "# Are there more crimes during specific hours?\n",
    "\n",
    "crime.groupby('HOUR').count()['INCIDENT_NUMBER'].sort_values(ascending=False).plot(kind='bar');\n",
    "plt.title('Number of crimes by Hour')"
   ]
  },
  {
   "cell_type": "code",
   "execution_count": null,
   "id": "10b08b38-c01d-42aa-a626-f6d13115b6f3",
   "metadata": {},
   "outputs": [],
   "source": [
    "# On what days and during which hours are the most crimes committed?"
   ]
  },
  {
   "cell_type": "code",
   "execution_count": 79,
   "id": "bb7700f7-b339-4a18-93b9-9b0b775686b4",
   "metadata": {},
   "outputs": [
    {
     "data": {
      "image/png": "[encoded data removed]",
      "text/plain": [
       "<Figure size 640x480 with 2 Axes>"
      ]
     },
     "metadata": {},
     "output_type": "display_data"
    }
   ],
   "source": [
    "week_and_hour = crime.groupby(['HOUR','DAY_OF_WEEK']).count()['INCIDENT_NUMBER'].unstack()\n",
    "\n",
    "week_and_hour = week_and_hour[['Monday', 'Tuesday', 'Wednesday', 'Thursday', 'Friday', 'Saturday', 'Sunday']]\n",
    "\n",
    "sns.heatmap(week_and_hour, cmap=sns.cubehelix_palette(as_cmap=True));"
   ]
  },
  {
   "cell_type": "code",
   "execution_count": 80,
   "id": "8a07128d-da5a-4305-9524-0bf46bc478cf",
   "metadata": {},
   "outputs": [],
   "source": [
    "# In which months were the number of crimes below average? \n",
    "# In which months on average did the most crimes occur?"
   ]
  },
  {
   "cell_type": "code",
   "execution_count": 81,
   "id": "9fba23d7-8335-4a9c-93c3-1e89c5d3c385",
   "metadata": {},
   "outputs": [
    {
     "name": "stdout",
     "output_type": "stream",
     "text": [
      "The average number of crimes is 7976.25\n"
     ]
    },
    {
     "name": "stderr",
     "output_type": "stream",
     "text": [
      "C:\\Users\\xiaowen.shou\\AppData\\Local\\Temp\\ipykernel_21876\\1065705091.py:10: FutureWarning: Styler.applymap has been deprecated. Use Styler.map instead.\n",
      "  s2 = year_and_month.style.applymap(style_negative, props='color:blue;')\\\n",
      "C:\\Users\\xiaowen.shou\\AppData\\Local\\Temp\\ipykernel_21876\\1065705091.py:11: FutureWarning: Styler.applymap has been deprecated. Use Styler.map instead.\n",
      "  .applymap(lambda v: 'opacity: 20%;' if (v < 0.3) and (v > -0.3) else None)\n"
     ]
    },
    {
     "data": {
      "text/html": [
       "<style type=\"text/css\">\n",
       "#T_77dce_row0_col1, #T_77dce_row0_col3, #T_77dce_row1_col1, #T_77dce_row1_col2, #T_77dce_row1_col3, #T_77dce_row2_col3, #T_77dce_row3_col3, #T_77dce_row5_col0, #T_77dce_row8_col3, #T_77dce_row10_col0, #T_77dce_row10_col1, #T_77dce_row10_col2, #T_77dce_row11_col1, #T_77dce_row11_col2 {\n",
       "  color: blue;\n",
       "}\n",
       "</style>\n",
       "<table id=\"T_77dce\">\n",
       "  <thead>\n",
       "    <tr>\n",
       "      <th class=\"index_name level0\" >YEAR</th>\n",
       "      <th id=\"T_77dce_level0_col0\" class=\"col_heading level0 col0\" >2015</th>\n",
       "      <th id=\"T_77dce_level0_col1\" class=\"col_heading level0 col1\" >2016</th>\n",
       "      <th id=\"T_77dce_level0_col2\" class=\"col_heading level0 col2\" >2017</th>\n",
       "      <th id=\"T_77dce_level0_col3\" class=\"col_heading level0 col3\" >2018</th>\n",
       "    </tr>\n",
       "    <tr>\n",
       "      <th class=\"index_name level0\" >MONTH</th>\n",
       "      <th class=\"blank col0\" >&nbsp;</th>\n",
       "      <th class=\"blank col1\" >&nbsp;</th>\n",
       "      <th class=\"blank col2\" >&nbsp;</th>\n",
       "      <th class=\"blank col3\" >&nbsp;</th>\n",
       "    </tr>\n",
       "  </thead>\n",
       "  <tbody>\n",
       "    <tr>\n",
       "      <th id=\"T_77dce_level0_row0\" class=\"row_heading level0 row0\" >1</th>\n",
       "      <td id=\"T_77dce_row0_col0\" class=\"data row0 col0\" >nan</td>\n",
       "      <td id=\"T_77dce_row0_col1\" class=\"data row0 col1\" >7835.000000</td>\n",
       "      <td id=\"T_77dce_row0_col2\" class=\"data row0 col2\" >7991.000000</td>\n",
       "      <td id=\"T_77dce_row0_col3\" class=\"data row0 col3\" >7782.000000</td>\n",
       "    </tr>\n",
       "    <tr>\n",
       "      <th id=\"T_77dce_level0_row1\" class=\"row_heading level0 row1\" >2</th>\n",
       "      <td id=\"T_77dce_row1_col0\" class=\"data row1 col0\" >nan</td>\n",
       "      <td id=\"T_77dce_row1_col1\" class=\"data row1 col1\" >7307.000000</td>\n",
       "      <td id=\"T_77dce_row1_col2\" class=\"data row1 col2\" >7408.000000</td>\n",
       "      <td id=\"T_77dce_row1_col3\" class=\"data row1 col3\" >6937.000000</td>\n",
       "    </tr>\n",
       "    <tr>\n",
       "      <th id=\"T_77dce_level0_row2\" class=\"row_heading level0 row2\" >3</th>\n",
       "      <td id=\"T_77dce_row2_col0\" class=\"data row2 col0\" >nan</td>\n",
       "      <td id=\"T_77dce_row2_col1\" class=\"data row2 col1\" >8199.000000</td>\n",
       "      <td id=\"T_77dce_row2_col2\" class=\"data row2 col2\" >8179.000000</td>\n",
       "      <td id=\"T_77dce_row2_col3\" class=\"data row2 col3\" >7768.000000</td>\n",
       "    </tr>\n",
       "    <tr>\n",
       "      <th id=\"T_77dce_level0_row3\" class=\"row_heading level0 row3\" >4</th>\n",
       "      <td id=\"T_77dce_row3_col0\" class=\"data row3 col0\" >nan</td>\n",
       "      <td id=\"T_77dce_row3_col1\" class=\"data row3 col1\" >8101.000000</td>\n",
       "      <td id=\"T_77dce_row3_col2\" class=\"data row3 col2\" >8069.000000</td>\n",
       "      <td id=\"T_77dce_row3_col3\" class=\"data row3 col3\" >7916.000000</td>\n",
       "    </tr>\n",
       "    <tr>\n",
       "      <th id=\"T_77dce_level0_row4\" class=\"row_heading level0 row4\" >5</th>\n",
       "      <td id=\"T_77dce_row4_col0\" class=\"data row4 col0\" >nan</td>\n",
       "      <td id=\"T_77dce_row4_col1\" class=\"data row4 col1\" >8578.000000</td>\n",
       "      <td id=\"T_77dce_row4_col2\" class=\"data row4 col2\" >8715.000000</td>\n",
       "      <td id=\"T_77dce_row4_col3\" class=\"data row4 col3\" >8906.000000</td>\n",
       "    </tr>\n",
       "    <tr>\n",
       "      <th id=\"T_77dce_level0_row5\" class=\"row_heading level0 row5\" >6</th>\n",
       "      <td id=\"T_77dce_row5_col0\" class=\"data row5 col0\" >4188.000000</td>\n",
       "      <td id=\"T_77dce_row5_col1\" class=\"data row5 col1\" >8558.000000</td>\n",
       "      <td id=\"T_77dce_row5_col2\" class=\"data row5 col2\" >8985.000000</td>\n",
       "      <td id=\"T_77dce_row5_col3\" class=\"data row5 col3\" >8834.000000</td>\n",
       "    </tr>\n",
       "    <tr>\n",
       "      <th id=\"T_77dce_level0_row6\" class=\"row_heading level0 row6\" >7</th>\n",
       "      <td id=\"T_77dce_row6_col0\" class=\"data row6 col0\" >8322.000000</td>\n",
       "      <td id=\"T_77dce_row6_col1\" class=\"data row6 col1\" >8618.000000</td>\n",
       "      <td id=\"T_77dce_row6_col2\" class=\"data row6 col2\" >9075.000000</td>\n",
       "      <td id=\"T_77dce_row6_col3\" class=\"data row6 col3\" >8538.000000</td>\n",
       "    </tr>\n",
       "    <tr>\n",
       "      <th id=\"T_77dce_level0_row7\" class=\"row_heading level0 row7\" >8</th>\n",
       "      <td id=\"T_77dce_row7_col0\" class=\"data row7 col0\" >8340.000000</td>\n",
       "      <td id=\"T_77dce_row7_col1\" class=\"data row7 col1\" >8938.000000</td>\n",
       "      <td id=\"T_77dce_row7_col2\" class=\"data row7 col2\" >9206.000000</td>\n",
       "      <td id=\"T_77dce_row7_col3\" class=\"data row7 col3\" >8337.000000</td>\n",
       "    </tr>\n",
       "    <tr>\n",
       "      <th id=\"T_77dce_level0_row8\" class=\"row_heading level0 row8\" >9</th>\n",
       "      <td id=\"T_77dce_row8_col0\" class=\"data row8 col0\" >8411.000000</td>\n",
       "      <td id=\"T_77dce_row8_col1\" class=\"data row8 col1\" >8521.000000</td>\n",
       "      <td id=\"T_77dce_row8_col2\" class=\"data row8 col2\" >8940.000000</td>\n",
       "      <td id=\"T_77dce_row8_col3\" class=\"data row8 col3\" >667.000000</td>\n",
       "    </tr>\n",
       "    <tr>\n",
       "      <th id=\"T_77dce_level0_row9\" class=\"row_heading level0 row9\" >10</th>\n",
       "      <td id=\"T_77dce_row9_col0\" class=\"data row9 col0\" >8305.000000</td>\n",
       "      <td id=\"T_77dce_row9_col1\" class=\"data row9 col1\" >8582.000000</td>\n",
       "      <td id=\"T_77dce_row9_col2\" class=\"data row9 col2\" >8846.000000</td>\n",
       "      <td id=\"T_77dce_row9_col3\" class=\"data row9 col3\" >nan</td>\n",
       "    </tr>\n",
       "    <tr>\n",
       "      <th id=\"T_77dce_level0_row10\" class=\"row_heading level0 row10\" >11</th>\n",
       "      <td id=\"T_77dce_row10_col0\" class=\"data row10 col0\" >7818.000000</td>\n",
       "      <td id=\"T_77dce_row10_col1\" class=\"data row10 col1\" >7922.000000</td>\n",
       "      <td id=\"T_77dce_row10_col2\" class=\"data row10 col2\" >7935.000000</td>\n",
       "      <td id=\"T_77dce_row10_col3\" class=\"data row10 col3\" >nan</td>\n",
       "    </tr>\n",
       "    <tr>\n",
       "      <th id=\"T_77dce_level0_row11\" class=\"row_heading level0 row11\" >12</th>\n",
       "      <td id=\"T_77dce_row11_col0\" class=\"data row11 col0\" >7987.000000</td>\n",
       "      <td id=\"T_77dce_row11_col1\" class=\"data row11 col1\" >7951.000000</td>\n",
       "      <td id=\"T_77dce_row11_col2\" class=\"data row11 col2\" >7535.000000</td>\n",
       "      <td id=\"T_77dce_row11_col3\" class=\"data row11 col3\" >nan</td>\n",
       "    </tr>\n",
       "  </tbody>\n",
       "</table>\n"
      ],
      "text/plain": [
       "<pandas.io.formats.style.Styler at 0x1dd176b6120>"
      ]
     },
     "execution_count": 81,
     "metadata": {},
     "output_type": "execute_result"
    }
   ],
   "source": [
    "# if the value is less than the average crime per month, highlight the value in blue\n",
    "\n",
    "avg_crime = crime.groupby(['YEAR', 'MONTH']).count()['INCIDENT_NUMBER'].mean()\n",
    "print(\"The average number of crimes is \" + str(avg_crime))\n",
    "\n",
    "year_and_month = crime.groupby(['MONTH', 'YEAR']).count()['INCIDENT_NUMBER'].unstack()\n",
    "\n",
    "def style_negative(v, props=''):\n",
    "    return props if v < avg_crime else None\n",
    "s2 = year_and_month.style.applymap(style_negative, props='color:blue;')\\\n",
    "              .applymap(lambda v: 'opacity: 20%;' if (v < 0.3) and (v > -0.3) else None)\n",
    "s2"
   ]
  },
  {
   "cell_type": "code",
   "execution_count": 82,
   "id": "1ed40fb9-528c-4db4-a6aa-cf5f1511ecdf",
   "metadata": {},
   "outputs": [
    {
     "data": {
      "text/html": [
       "<style type=\"text/css\">\n",
       "#T_77dce_row0_col1, #T_77dce_row0_col3, #T_77dce_row1_col1, #T_77dce_row1_col2, #T_77dce_row1_col3, #T_77dce_row2_col3, #T_77dce_row3_col3, #T_77dce_row5_col0, #T_77dce_row8_col3, #T_77dce_row10_col0, #T_77dce_row10_col1, #T_77dce_row10_col2, #T_77dce_row11_col1, #T_77dce_row11_col2 {\n",
       "  color: blue;\n",
       "}\n",
       "#T_77dce_row4_col3, #T_77dce_row7_col1, #T_77dce_row7_col2, #T_77dce_row8_col0 {\n",
       "  color: white;\n",
       "  background-color: darkgreen;\n",
       "}\n",
       "</style>\n",
       "<table id=\"T_77dce\">\n",
       "  <thead>\n",
       "    <tr>\n",
       "      <th class=\"index_name level0\" >YEAR</th>\n",
       "      <th id=\"T_77dce_level0_col0\" class=\"col_heading level0 col0\" >2015</th>\n",
       "      <th id=\"T_77dce_level0_col1\" class=\"col_heading level0 col1\" >2016</th>\n",
       "      <th id=\"T_77dce_level0_col2\" class=\"col_heading level0 col2\" >2017</th>\n",
       "      <th id=\"T_77dce_level0_col3\" class=\"col_heading level0 col3\" >2018</th>\n",
       "    </tr>\n",
       "    <tr>\n",
       "      <th class=\"index_name level0\" >MONTH</th>\n",
       "      <th class=\"blank col0\" >&nbsp;</th>\n",
       "      <th class=\"blank col1\" >&nbsp;</th>\n",
       "      <th class=\"blank col2\" >&nbsp;</th>\n",
       "      <th class=\"blank col3\" >&nbsp;</th>\n",
       "    </tr>\n",
       "  </thead>\n",
       "  <tbody>\n",
       "    <tr>\n",
       "      <th id=\"T_77dce_level0_row0\" class=\"row_heading level0 row0\" >1</th>\n",
       "      <td id=\"T_77dce_row0_col0\" class=\"data row0 col0\" >nan</td>\n",
       "      <td id=\"T_77dce_row0_col1\" class=\"data row0 col1\" >7835.000000</td>\n",
       "      <td id=\"T_77dce_row0_col2\" class=\"data row0 col2\" >7991.000000</td>\n",
       "      <td id=\"T_77dce_row0_col3\" class=\"data row0 col3\" >7782.000000</td>\n",
       "    </tr>\n",
       "    <tr>\n",
       "      <th id=\"T_77dce_level0_row1\" class=\"row_heading level0 row1\" >2</th>\n",
       "      <td id=\"T_77dce_row1_col0\" class=\"data row1 col0\" >nan</td>\n",
       "      <td id=\"T_77dce_row1_col1\" class=\"data row1 col1\" >7307.000000</td>\n",
       "      <td id=\"T_77dce_row1_col2\" class=\"data row1 col2\" >7408.000000</td>\n",
       "      <td id=\"T_77dce_row1_col3\" class=\"data row1 col3\" >6937.000000</td>\n",
       "    </tr>\n",
       "    <tr>\n",
       "      <th id=\"T_77dce_level0_row2\" class=\"row_heading level0 row2\" >3</th>\n",
       "      <td id=\"T_77dce_row2_col0\" class=\"data row2 col0\" >nan</td>\n",
       "      <td id=\"T_77dce_row2_col1\" class=\"data row2 col1\" >8199.000000</td>\n",
       "      <td id=\"T_77dce_row2_col2\" class=\"data row2 col2\" >8179.000000</td>\n",
       "      <td id=\"T_77dce_row2_col3\" class=\"data row2 col3\" >7768.000000</td>\n",
       "    </tr>\n",
       "    <tr>\n",
       "      <th id=\"T_77dce_level0_row3\" class=\"row_heading level0 row3\" >4</th>\n",
       "      <td id=\"T_77dce_row3_col0\" class=\"data row3 col0\" >nan</td>\n",
       "      <td id=\"T_77dce_row3_col1\" class=\"data row3 col1\" >8101.000000</td>\n",
       "      <td id=\"T_77dce_row3_col2\" class=\"data row3 col2\" >8069.000000</td>\n",
       "      <td id=\"T_77dce_row3_col3\" class=\"data row3 col3\" >7916.000000</td>\n",
       "    </tr>\n",
       "    <tr>\n",
       "      <th id=\"T_77dce_level0_row4\" class=\"row_heading level0 row4\" >5</th>\n",
       "      <td id=\"T_77dce_row4_col0\" class=\"data row4 col0\" >nan</td>\n",
       "      <td id=\"T_77dce_row4_col1\" class=\"data row4 col1\" >8578.000000</td>\n",
       "      <td id=\"T_77dce_row4_col2\" class=\"data row4 col2\" >8715.000000</td>\n",
       "      <td id=\"T_77dce_row4_col3\" class=\"data row4 col3\" >8906.000000</td>\n",
       "    </tr>\n",
       "    <tr>\n",
       "      <th id=\"T_77dce_level0_row5\" class=\"row_heading level0 row5\" >6</th>\n",
       "      <td id=\"T_77dce_row5_col0\" class=\"data row5 col0\" >4188.000000</td>\n",
       "      <td id=\"T_77dce_row5_col1\" class=\"data row5 col1\" >8558.000000</td>\n",
       "      <td id=\"T_77dce_row5_col2\" class=\"data row5 col2\" >8985.000000</td>\n",
       "      <td id=\"T_77dce_row5_col3\" class=\"data row5 col3\" >8834.000000</td>\n",
       "    </tr>\n",
       "    <tr>\n",
       "      <th id=\"T_77dce_level0_row6\" class=\"row_heading level0 row6\" >7</th>\n",
       "      <td id=\"T_77dce_row6_col0\" class=\"data row6 col0\" >8322.000000</td>\n",
       "      <td id=\"T_77dce_row6_col1\" class=\"data row6 col1\" >8618.000000</td>\n",
       "      <td id=\"T_77dce_row6_col2\" class=\"data row6 col2\" >9075.000000</td>\n",
       "      <td id=\"T_77dce_row6_col3\" class=\"data row6 col3\" >8538.000000</td>\n",
       "    </tr>\n",
       "    <tr>\n",
       "      <th id=\"T_77dce_level0_row7\" class=\"row_heading level0 row7\" >8</th>\n",
       "      <td id=\"T_77dce_row7_col0\" class=\"data row7 col0\" >8340.000000</td>\n",
       "      <td id=\"T_77dce_row7_col1\" class=\"data row7 col1\" >8938.000000</td>\n",
       "      <td id=\"T_77dce_row7_col2\" class=\"data row7 col2\" >9206.000000</td>\n",
       "      <td id=\"T_77dce_row7_col3\" class=\"data row7 col3\" >8337.000000</td>\n",
       "    </tr>\n",
       "    <tr>\n",
       "      <th id=\"T_77dce_level0_row8\" class=\"row_heading level0 row8\" >9</th>\n",
       "      <td id=\"T_77dce_row8_col0\" class=\"data row8 col0\" >8411.000000</td>\n",
       "      <td id=\"T_77dce_row8_col1\" class=\"data row8 col1\" >8521.000000</td>\n",
       "      <td id=\"T_77dce_row8_col2\" class=\"data row8 col2\" >8940.000000</td>\n",
       "      <td id=\"T_77dce_row8_col3\" class=\"data row8 col3\" >667.000000</td>\n",
       "    </tr>\n",
       "    <tr>\n",
       "      <th id=\"T_77dce_level0_row9\" class=\"row_heading level0 row9\" >10</th>\n",
       "      <td id=\"T_77dce_row9_col0\" class=\"data row9 col0\" >8305.000000</td>\n",
       "      <td id=\"T_77dce_row9_col1\" class=\"data row9 col1\" >8582.000000</td>\n",
       "      <td id=\"T_77dce_row9_col2\" class=\"data row9 col2\" >8846.000000</td>\n",
       "      <td id=\"T_77dce_row9_col3\" class=\"data row9 col3\" >nan</td>\n",
       "    </tr>\n",
       "    <tr>\n",
       "      <th id=\"T_77dce_level0_row10\" class=\"row_heading level0 row10\" >11</th>\n",
       "      <td id=\"T_77dce_row10_col0\" class=\"data row10 col0\" >7818.000000</td>\n",
       "      <td id=\"T_77dce_row10_col1\" class=\"data row10 col1\" >7922.000000</td>\n",
       "      <td id=\"T_77dce_row10_col2\" class=\"data row10 col2\" >7935.000000</td>\n",
       "      <td id=\"T_77dce_row10_col3\" class=\"data row10 col3\" >nan</td>\n",
       "    </tr>\n",
       "    <tr>\n",
       "      <th id=\"T_77dce_level0_row11\" class=\"row_heading level0 row11\" >12</th>\n",
       "      <td id=\"T_77dce_row11_col0\" class=\"data row11 col0\" >7987.000000</td>\n",
       "      <td id=\"T_77dce_row11_col1\" class=\"data row11 col1\" >7951.000000</td>\n",
       "      <td id=\"T_77dce_row11_col2\" class=\"data row11 col2\" >7535.000000</td>\n",
       "      <td id=\"T_77dce_row11_col3\" class=\"data row11 col3\" >nan</td>\n",
       "    </tr>\n",
       "  </tbody>\n",
       "</table>\n"
      ],
      "text/plain": [
       "<pandas.io.formats.style.Styler at 0x1dd176b6120>"
      ]
     },
     "execution_count": 82,
     "metadata": {},
     "output_type": "execute_result"
    }
   ],
   "source": [
    "# Use apply to highlight the maximum in a column in darkgreen\n",
    "\n",
    "def highlight_max(s, props=''):\n",
    "    return np.where(s == np.nanmax(s.values), props, '')\n",
    "s2.apply(highlight_max, props='color:white;background-color:darkgreen', axis=0)"
   ]
  },
  {
   "cell_type": "code",
   "execution_count": 83,
   "id": "1210bd95-f1aa-4da3-9b4a-e7ad2223da55",
   "metadata": {},
   "outputs": [
    {
     "data": {
      "image/png": "[encoded data removed]",
      "text/plain": [
       "<Figure size 640x480 with 2 Axes>"
      ]
     },
     "metadata": {},
     "output_type": "display_data"
    }
   ],
   "source": [
    "# Question 4 - In which districts were the most crimes commmitted on yearly basis? \n",
    "# Try and use everything you've learned in this video to answer this question.\n",
    "# Feel free to use functions, tables and other visuals.\n",
    "\n",
    "district_and_year = crime.groupby(['DISTRICT', 'YEAR']).count()['INCIDENT_NUMBER'].unstack()\n",
    "\n",
    "sns.heatmap(district_and_year, cmap=sns.cubehelix_palette(as_cmap=True));"
   ]
  },
  {
   "cell_type": "code",
   "execution_count": 84,
   "id": "0b304336-61a0-4706-bdda-f286d661d11e",
   "metadata": {},
   "outputs": [
    {
     "name": "stdout",
     "output_type": "stream",
     "text": [
      "The average crime per district per year is: 6610.104166666667\n"
     ]
    },
    {
     "name": "stderr",
     "output_type": "stream",
     "text": [
      "C:\\Users\\xiaowen.shou\\AppData\\Local\\Temp\\ipykernel_21876\\2880180758.py:8: FutureWarning: Styler.applymap has been deprecated. Use Styler.map instead.\n",
      "  s3 = district_and_year.style.applymap(style_negative, props='color:blue;')\\\n",
      "C:\\Users\\xiaowen.shou\\AppData\\Local\\Temp\\ipykernel_21876\\2880180758.py:9: FutureWarning: Styler.applymap has been deprecated. Use Styler.map instead.\n",
      "  .applymap(lambda v: 'opacity: 20%;' if (v < 0.3) and (v > -0.3) else None)\n"
     ]
    },
    {
     "data": {
      "text/html": [
       "<style type=\"text/css\">\n",
       "#T_5e848_row0_col0, #T_5e848_row1_col0, #T_5e848_row1_col1, #T_5e848_row1_col2, #T_5e848_row1_col3, #T_5e848_row2_col0, #T_5e848_row2_col1, #T_5e848_row2_col2, #T_5e848_row2_col3, #T_5e848_row4_col0, #T_5e848_row6_col0, #T_5e848_row6_col3, #T_5e848_row7_col0, #T_5e848_row7_col1, #T_5e848_row7_col2, #T_5e848_row7_col3, #T_5e848_row9_col0, #T_5e848_row9_col1, #T_5e848_row9_col2, #T_5e848_row9_col3, #T_5e848_row10_col0, #T_5e848_row10_col1, #T_5e848_row10_col2, #T_5e848_row10_col3, #T_5e848_row11_col0, #T_5e848_row11_col1, #T_5e848_row11_col2, #T_5e848_row11_col3 {\n",
       "  color: blue;\n",
       "}\n",
       "</style>\n",
       "<table id=\"T_5e848\">\n",
       "  <thead>\n",
       "    <tr>\n",
       "      <th class=\"index_name level0\" >YEAR</th>\n",
       "      <th id=\"T_5e848_level0_col0\" class=\"col_heading level0 col0\" >2015</th>\n",
       "      <th id=\"T_5e848_level0_col1\" class=\"col_heading level0 col1\" >2016</th>\n",
       "      <th id=\"T_5e848_level0_col2\" class=\"col_heading level0 col2\" >2017</th>\n",
       "      <th id=\"T_5e848_level0_col3\" class=\"col_heading level0 col3\" >2018</th>\n",
       "    </tr>\n",
       "    <tr>\n",
       "      <th class=\"index_name level0\" >DISTRICT</th>\n",
       "      <th class=\"blank col0\" >&nbsp;</th>\n",
       "      <th class=\"blank col1\" >&nbsp;</th>\n",
       "      <th class=\"blank col2\" >&nbsp;</th>\n",
       "      <th class=\"blank col3\" >&nbsp;</th>\n",
       "    </tr>\n",
       "  </thead>\n",
       "  <tbody>\n",
       "    <tr>\n",
       "      <th id=\"T_5e848_level0_row0\" class=\"row_heading level0 row0\" >A1</th>\n",
       "      <td id=\"T_5e848_row0_col0\" class=\"data row0 col0\" >6010</td>\n",
       "      <td id=\"T_5e848_row0_col1\" class=\"data row0 col1\" >10922</td>\n",
       "      <td id=\"T_5e848_row0_col2\" class=\"data row0 col2\" >11374</td>\n",
       "      <td id=\"T_5e848_row0_col3\" class=\"data row0 col3\" >7404</td>\n",
       "    </tr>\n",
       "    <tr>\n",
       "      <th id=\"T_5e848_level0_row1\" class=\"row_heading level0 row1\" >A15</th>\n",
       "      <td id=\"T_5e848_row1_col0\" class=\"data row1 col0\" >1027</td>\n",
       "      <td id=\"T_5e848_row1_col1\" class=\"data row1 col1\" >1986</td>\n",
       "      <td id=\"T_5e848_row1_col2\" class=\"data row1 col2\" >2167</td>\n",
       "      <td id=\"T_5e848_row1_col3\" class=\"data row1 col3\" >1325</td>\n",
       "    </tr>\n",
       "    <tr>\n",
       "      <th id=\"T_5e848_level0_row2\" class=\"row_heading level0 row2\" >A7</th>\n",
       "      <td id=\"T_5e848_row2_col0\" class=\"data row2 col0\" >2426</td>\n",
       "      <td id=\"T_5e848_row2_col1\" class=\"data row2 col1\" >4130</td>\n",
       "      <td id=\"T_5e848_row2_col2\" class=\"data row2 col2\" >4264</td>\n",
       "      <td id=\"T_5e848_row2_col3\" class=\"data row2 col3\" >2724</td>\n",
       "    </tr>\n",
       "    <tr>\n",
       "      <th id=\"T_5e848_level0_row3\" class=\"row_heading level0 row3\" >B2</th>\n",
       "      <td id=\"T_5e848_row3_col0\" class=\"data row3 col0\" >8682</td>\n",
       "      <td id=\"T_5e848_row3_col1\" class=\"data row3 col1\" >15706</td>\n",
       "      <td id=\"T_5e848_row3_col2\" class=\"data row3 col2\" >15680</td>\n",
       "      <td id=\"T_5e848_row3_col3\" class=\"data row3 col3\" >9872</td>\n",
       "    </tr>\n",
       "    <tr>\n",
       "      <th id=\"T_5e848_level0_row4\" class=\"row_heading level0 row4\" >B3</th>\n",
       "      <td id=\"T_5e848_row4_col0\" class=\"data row4 col0\" >5616</td>\n",
       "      <td id=\"T_5e848_row4_col1\" class=\"data row4 col1\" >11145</td>\n",
       "      <td id=\"T_5e848_row4_col2\" class=\"data row4 col2\" >11195</td>\n",
       "      <td id=\"T_5e848_row4_col3\" class=\"data row4 col3\" >7485</td>\n",
       "    </tr>\n",
       "    <tr>\n",
       "      <th id=\"T_5e848_level0_row5\" class=\"row_heading level0 row5\" >C11</th>\n",
       "      <td id=\"T_5e848_row5_col0\" class=\"data row5 col0\" >7363</td>\n",
       "      <td id=\"T_5e848_row5_col1\" class=\"data row5 col1\" >13602</td>\n",
       "      <td id=\"T_5e848_row5_col2\" class=\"data row5 col2\" >13281</td>\n",
       "      <td id=\"T_5e848_row5_col3\" class=\"data row5 col3\" >8282</td>\n",
       "    </tr>\n",
       "    <tr>\n",
       "      <th id=\"T_5e848_level0_row6\" class=\"row_heading level0 row6\" >C6</th>\n",
       "      <td id=\"T_5e848_row6_col0\" class=\"data row6 col0\" >3939</td>\n",
       "      <td id=\"T_5e848_row6_col1\" class=\"data row6 col1\" >7072</td>\n",
       "      <td id=\"T_5e848_row6_col2\" class=\"data row6 col2\" >7247</td>\n",
       "      <td id=\"T_5e848_row6_col3\" class=\"data row6 col3\" >5199</td>\n",
       "    </tr>\n",
       "    <tr>\n",
       "      <th id=\"T_5e848_level0_row7\" class=\"row_heading level0 row7\" >D14</th>\n",
       "      <td id=\"T_5e848_row7_col0\" class=\"data row7 col0\" >3280</td>\n",
       "      <td id=\"T_5e848_row7_col1\" class=\"data row7 col1\" >6279</td>\n",
       "      <td id=\"T_5e848_row7_col2\" class=\"data row7 col2\" >6509</td>\n",
       "      <td id=\"T_5e848_row7_col3\" class=\"data row7 col3\" >4059</td>\n",
       "    </tr>\n",
       "    <tr>\n",
       "      <th id=\"T_5e848_level0_row8\" class=\"row_heading level0 row8\" >D4</th>\n",
       "      <td id=\"T_5e848_row8_col0\" class=\"data row8 col0\" >7203</td>\n",
       "      <td id=\"T_5e848_row8_col1\" class=\"data row8 col1\" >12953</td>\n",
       "      <td id=\"T_5e848_row8_col2\" class=\"data row8 col2\" >13157</td>\n",
       "      <td id=\"T_5e848_row8_col3\" class=\"data row8 col3\" >8601</td>\n",
       "    </tr>\n",
       "    <tr>\n",
       "      <th id=\"T_5e848_level0_row9\" class=\"row_heading level0 row9\" >E13</th>\n",
       "      <td id=\"T_5e848_row9_col0\" class=\"data row9 col0\" >2800</td>\n",
       "      <td id=\"T_5e848_row9_col1\" class=\"data row9 col1\" >5558</td>\n",
       "      <td id=\"T_5e848_row9_col2\" class=\"data row9 col2\" >5514</td>\n",
       "      <td id=\"T_5e848_row9_col3\" class=\"data row9 col3\" >3662</td>\n",
       "    </tr>\n",
       "    <tr>\n",
       "      <th id=\"T_5e848_level0_row10\" class=\"row_heading level0 row10\" >E18</th>\n",
       "      <td id=\"T_5e848_row10_col0\" class=\"data row10 col0\" >2740</td>\n",
       "      <td id=\"T_5e848_row10_col1\" class=\"data row10 col1\" >5223</td>\n",
       "      <td id=\"T_5e848_row10_col2\" class=\"data row10 col2\" >5611</td>\n",
       "      <td id=\"T_5e848_row10_col3\" class=\"data row10 col3\" >3773</td>\n",
       "    </tr>\n",
       "    <tr>\n",
       "      <th id=\"T_5e848_level0_row11\" class=\"row_heading level0 row11\" >E5</th>\n",
       "      <td id=\"T_5e848_row11_col0\" class=\"data row11 col0\" >2157</td>\n",
       "      <td id=\"T_5e848_row11_col1\" class=\"data row11 col1\" >4017</td>\n",
       "      <td id=\"T_5e848_row11_col2\" class=\"data row11 col2\" >4309</td>\n",
       "      <td id=\"T_5e848_row11_col3\" class=\"data row11 col3\" >2755</td>\n",
       "    </tr>\n",
       "  </tbody>\n",
       "</table>\n"
      ],
      "text/plain": [
       "<pandas.io.formats.style.Styler at 0x1dd491f3c80>"
      ]
     },
     "execution_count": 84,
     "metadata": {},
     "output_type": "execute_result"
    }
   ],
   "source": [
    "# if the value is less than the average crime per district per year, highlight the value in blue\n",
    "\n",
    "avg_crime_district = crime.groupby(['DISTRICT', 'YEAR']).count()['INCIDENT_NUMBER'].mean()\n",
    "print(\"The average crime per district per year is: \" + str(avg_crime_district))\n",
    "\n",
    "def style_negative(v, props=''):\n",
    "    return props if v < avg_crime_district else None\n",
    "s3 = district_and_year.style.applymap(style_negative, props='color:blue;')\\\n",
    "              .applymap(lambda v: 'opacity: 20%;' if (v < 0.3) and (v > -0.3) else None)\n",
    "s3"
   ]
  },
  {
   "cell_type": "code",
   "execution_count": 85,
   "id": "1f969d0b-e453-4822-b0af-724e75d34ce1",
   "metadata": {},
   "outputs": [
    {
     "data": {
      "text/html": [
       "<style type=\"text/css\">\n",
       "#T_5e848_row0_col0, #T_5e848_row1_col0, #T_5e848_row1_col1, #T_5e848_row1_col2, #T_5e848_row1_col3, #T_5e848_row2_col0, #T_5e848_row2_col1, #T_5e848_row2_col2, #T_5e848_row2_col3, #T_5e848_row4_col0, #T_5e848_row6_col0, #T_5e848_row6_col3, #T_5e848_row7_col0, #T_5e848_row7_col1, #T_5e848_row7_col2, #T_5e848_row7_col3, #T_5e848_row9_col0, #T_5e848_row9_col1, #T_5e848_row9_col2, #T_5e848_row9_col3, #T_5e848_row10_col0, #T_5e848_row10_col1, #T_5e848_row10_col2, #T_5e848_row10_col3, #T_5e848_row11_col0, #T_5e848_row11_col1, #T_5e848_row11_col2, #T_5e848_row11_col3 {\n",
       "  color: blue;\n",
       "}\n",
       "#T_5e848_row3_col0, #T_5e848_row3_col1, #T_5e848_row3_col2, #T_5e848_row3_col3 {\n",
       "  color: white;\n",
       "  background-color: darkgreen;\n",
       "}\n",
       "</style>\n",
       "<table id=\"T_5e848\">\n",
       "  <thead>\n",
       "    <tr>\n",
       "      <th class=\"index_name level0\" >YEAR</th>\n",
       "      <th id=\"T_5e848_level0_col0\" class=\"col_heading level0 col0\" >2015</th>\n",
       "      <th id=\"T_5e848_level0_col1\" class=\"col_heading level0 col1\" >2016</th>\n",
       "      <th id=\"T_5e848_level0_col2\" class=\"col_heading level0 col2\" >2017</th>\n",
       "      <th id=\"T_5e848_level0_col3\" class=\"col_heading level0 col3\" >2018</th>\n",
       "    </tr>\n",
       "    <tr>\n",
       "      <th class=\"index_name level0\" >DISTRICT</th>\n",
       "      <th class=\"blank col0\" >&nbsp;</th>\n",
       "      <th class=\"blank col1\" >&nbsp;</th>\n",
       "      <th class=\"blank col2\" >&nbsp;</th>\n",
       "      <th class=\"blank col3\" >&nbsp;</th>\n",
       "    </tr>\n",
       "  </thead>\n",
       "  <tbody>\n",
       "    <tr>\n",
       "      <th id=\"T_5e848_level0_row0\" class=\"row_heading level0 row0\" >A1</th>\n",
       "      <td id=\"T_5e848_row0_col0\" class=\"data row0 col0\" >6010</td>\n",
       "      <td id=\"T_5e848_row0_col1\" class=\"data row0 col1\" >10922</td>\n",
       "      <td id=\"T_5e848_row0_col2\" class=\"data row0 col2\" >11374</td>\n",
       "      <td id=\"T_5e848_row0_col3\" class=\"data row0 col3\" >7404</td>\n",
       "    </tr>\n",
       "    <tr>\n",
       "      <th id=\"T_5e848_level0_row1\" class=\"row_heading level0 row1\" >A15</th>\n",
       "      <td id=\"T_5e848_row1_col0\" class=\"data row1 col0\" >1027</td>\n",
       "      <td id=\"T_5e848_row1_col1\" class=\"data row1 col1\" >1986</td>\n",
       "      <td id=\"T_5e848_row1_col2\" class=\"data row1 col2\" >2167</td>\n",
       "      <td id=\"T_5e848_row1_col3\" class=\"data row1 col3\" >1325</td>\n",
       "    </tr>\n",
       "    <tr>\n",
       "      <th id=\"T_5e848_level0_row2\" class=\"row_heading level0 row2\" >A7</th>\n",
       "      <td id=\"T_5e848_row2_col0\" class=\"data row2 col0\" >2426</td>\n",
       "      <td id=\"T_5e848_row2_col1\" class=\"data row2 col1\" >4130</td>\n",
       "      <td id=\"T_5e848_row2_col2\" class=\"data row2 col2\" >4264</td>\n",
       "      <td id=\"T_5e848_row2_col3\" class=\"data row2 col3\" >2724</td>\n",
       "    </tr>\n",
       "    <tr>\n",
       "      <th id=\"T_5e848_level0_row3\" class=\"row_heading level0 row3\" >B2</th>\n",
       "      <td id=\"T_5e848_row3_col0\" class=\"data row3 col0\" >8682</td>\n",
       "      <td id=\"T_5e848_row3_col1\" class=\"data row3 col1\" >15706</td>\n",
       "      <td id=\"T_5e848_row3_col2\" class=\"data row3 col2\" >15680</td>\n",
       "      <td id=\"T_5e848_row3_col3\" class=\"data row3 col3\" >9872</td>\n",
       "    </tr>\n",
       "    <tr>\n",
       "      <th id=\"T_5e848_level0_row4\" class=\"row_heading level0 row4\" >B3</th>\n",
       "      <td id=\"T_5e848_row4_col0\" class=\"data row4 col0\" >5616</td>\n",
       "      <td id=\"T_5e848_row4_col1\" class=\"data row4 col1\" >11145</td>\n",
       "      <td id=\"T_5e848_row4_col2\" class=\"data row4 col2\" >11195</td>\n",
       "      <td id=\"T_5e848_row4_col3\" class=\"data row4 col3\" >7485</td>\n",
       "    </tr>\n",
       "    <tr>\n",
       "      <th id=\"T_5e848_level0_row5\" class=\"row_heading level0 row5\" >C11</th>\n",
       "      <td id=\"T_5e848_row5_col0\" class=\"data row5 col0\" >7363</td>\n",
       "      <td id=\"T_5e848_row5_col1\" class=\"data row5 col1\" >13602</td>\n",
       "      <td id=\"T_5e848_row5_col2\" class=\"data row5 col2\" >13281</td>\n",
       "      <td id=\"T_5e848_row5_col3\" class=\"data row5 col3\" >8282</td>\n",
       "    </tr>\n",
       "    <tr>\n",
       "      <th id=\"T_5e848_level0_row6\" class=\"row_heading level0 row6\" >C6</th>\n",
       "      <td id=\"T_5e848_row6_col0\" class=\"data row6 col0\" >3939</td>\n",
       "      <td id=\"T_5e848_row6_col1\" class=\"data row6 col1\" >7072</td>\n",
       "      <td id=\"T_5e848_row6_col2\" class=\"data row6 col2\" >7247</td>\n",
       "      <td id=\"T_5e848_row6_col3\" class=\"data row6 col3\" >5199</td>\n",
       "    </tr>\n",
       "    <tr>\n",
       "      <th id=\"T_5e848_level0_row7\" class=\"row_heading level0 row7\" >D14</th>\n",
       "      <td id=\"T_5e848_row7_col0\" class=\"data row7 col0\" >3280</td>\n",
       "      <td id=\"T_5e848_row7_col1\" class=\"data row7 col1\" >6279</td>\n",
       "      <td id=\"T_5e848_row7_col2\" class=\"data row7 col2\" >6509</td>\n",
       "      <td id=\"T_5e848_row7_col3\" class=\"data row7 col3\" >4059</td>\n",
       "    </tr>\n",
       "    <tr>\n",
       "      <th id=\"T_5e848_level0_row8\" class=\"row_heading level0 row8\" >D4</th>\n",
       "      <td id=\"T_5e848_row8_col0\" class=\"data row8 col0\" >7203</td>\n",
       "      <td id=\"T_5e848_row8_col1\" class=\"data row8 col1\" >12953</td>\n",
       "      <td id=\"T_5e848_row8_col2\" class=\"data row8 col2\" >13157</td>\n",
       "      <td id=\"T_5e848_row8_col3\" class=\"data row8 col3\" >8601</td>\n",
       "    </tr>\n",
       "    <tr>\n",
       "      <th id=\"T_5e848_level0_row9\" class=\"row_heading level0 row9\" >E13</th>\n",
       "      <td id=\"T_5e848_row9_col0\" class=\"data row9 col0\" >2800</td>\n",
       "      <td id=\"T_5e848_row9_col1\" class=\"data row9 col1\" >5558</td>\n",
       "      <td id=\"T_5e848_row9_col2\" class=\"data row9 col2\" >5514</td>\n",
       "      <td id=\"T_5e848_row9_col3\" class=\"data row9 col3\" >3662</td>\n",
       "    </tr>\n",
       "    <tr>\n",
       "      <th id=\"T_5e848_level0_row10\" class=\"row_heading level0 row10\" >E18</th>\n",
       "      <td id=\"T_5e848_row10_col0\" class=\"data row10 col0\" >2740</td>\n",
       "      <td id=\"T_5e848_row10_col1\" class=\"data row10 col1\" >5223</td>\n",
       "      <td id=\"T_5e848_row10_col2\" class=\"data row10 col2\" >5611</td>\n",
       "      <td id=\"T_5e848_row10_col3\" class=\"data row10 col3\" >3773</td>\n",
       "    </tr>\n",
       "    <tr>\n",
       "      <th id=\"T_5e848_level0_row11\" class=\"row_heading level0 row11\" >E5</th>\n",
       "      <td id=\"T_5e848_row11_col0\" class=\"data row11 col0\" >2157</td>\n",
       "      <td id=\"T_5e848_row11_col1\" class=\"data row11 col1\" >4017</td>\n",
       "      <td id=\"T_5e848_row11_col2\" class=\"data row11 col2\" >4309</td>\n",
       "      <td id=\"T_5e848_row11_col3\" class=\"data row11 col3\" >2755</td>\n",
       "    </tr>\n",
       "  </tbody>\n",
       "</table>\n"
      ],
      "text/plain": [
       "<pandas.io.formats.style.Styler at 0x1dd491f3c80>"
      ]
     },
     "execution_count": 85,
     "metadata": {},
     "output_type": "execute_result"
    }
   ],
   "source": [
    "# Highlight the maximum value in each colummn with darkgreen\n",
    "\n",
    "def highlight_max(s, props=''):\n",
    "    return np.where(s == np.nanmax(s.values), props, '')\n",
    "s3.apply(highlight_max, props='color:white;background-color:darkgreen', axis=0)"
   ]
  },
  {
   "cell_type": "code",
   "execution_count": null,
   "id": "ad8bcea4-d4a0-4b1f-8d85-cb8a6edc5bfc",
   "metadata": {},
   "outputs": [],
   "source": []
  }
 ],
 "metadata": {
  "kernelspec": {
   "display_name": "Python 3 (ipykernel)",
   "language": "python",
   "name": "python3"
  },
  "language_info": {
   "codemirror_mode": {
    "name": "ipython",
    "version": 3
   },
   "file_extension": ".py",
   "mimetype": "text/x-python",
   "name": "python",
   "nbconvert_exporter": "python",
   "pygments_lexer": "ipython3",
   "version": "3.12.7"
  }
 },
 "nbformat": 4,
 "nbformat_minor": 5
}
